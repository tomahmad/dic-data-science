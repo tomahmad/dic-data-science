{
 "cells": [
  {
   "cell_type": "markdown",
   "metadata": {
    "id": "H9wADwK78DCz"
   },
   "source": [
    "# Proyek Analisis Data: Bike Sharing Dataset\n",
    "- **Nama:** Ahmad Taufiq Gultom\n",
    "- **Email:** taufiq.gultom@gmail.com\n",
    "- **ID Dicoding:** taufiqgultom"
   ]
  },
  {
   "cell_type": "markdown",
   "metadata": {
    "id": "X5FKiGET6C2_"
   },
   "source": [
    "## Latar Belakang"
   ]
  },
  {
   "cell_type": "markdown",
   "metadata": {
    "id": "C7cEGp5o6C3A"
   },
   "source": [
    "Sistem penyewaan sepeda adalah generasi baru dari penyewaan sepeda tradisional di mana seluruh proses dari keanggotaan, penyewaan, hingga pengembalian dilakukan secara otomatis. Melalui sistem ini, pengguna dapat dengan mudah menyewa sepeda dari lokasi tertentu dan mengembalikannya di lokasi lain. Saat ini, ada lebih dari 500 program penyewaan sepeda di seluruh dunia, yang terdiri dari lebih dari 500.000 sepeda. Sistem ini menarik perhatian karena perannya yang penting dalam lalu lintas, lingkungan, dan masalah kesehatan."
   ]
  },
  {
   "cell_type": "markdown",
   "metadata": {
    "id": "BijnbIKA6C3A"
   },
   "source": [
    "Proses penyewaan sepeda sangat berkorelasi dengan faktor lingkungan dan musiman. Misalnya, kondisi cuaca, curah hujan, hari dalam seminggu, musim, jam dalam sehari, dan lain-lain dapat memengaruhi perilaku penyewaan. Dataset utama terkait dengan log historis dua tahun (2011-2012) dari sistem Capital Bikeshare di Washington D.C., AS, yang tersedia secara publik di Capital Bikeshare."
   ]
  },
  {
   "cell_type": "markdown",
   "metadata": {
    "id": "eE0raob58DC0"
   },
   "source": [
    "## Menentukan Pertanyaan Bisnis"
   ]
  },
  {
   "cell_type": "markdown",
   "metadata": {
    "id": "GmQeQ5YF8DC0"
   },
   "source": [
    "- Bagaimana pengaruh cuaca terhadap jumlah penyewaan sepeda?\n",
    "- Bagaimana pengaruh hari libur, hari kerja dan akhir pekan terhadap penyewaan sepeda?\n",
    "- Bagaimana tren jumlah penyewaan sepeda dari waktu ke waktu, y-on-y, m-to-m. Bulan berapa penyewaan sepeda tertinggi?\n",
    "- Bagaimana tren penggunaan sepeda antara pengguna kasual dan terdaftar? Apakah pengguna terdaftar menyewa sepeda lebih sering daripada pengguna kasual?"
   ]
  },
  {
   "cell_type": "markdown",
   "metadata": {
    "id": "H-z4QGlO8DC1"
   },
   "source": [
    "## Import Semua Packages/Library yang Digunakan"
   ]
  },
  {
   "cell_type": "code",
   "execution_count": 1,
   "metadata": {
    "executionInfo": {
     "elapsed": 380,
     "status": "ok",
     "timestamp": 1730574984644,
     "user": {
      "displayName": "Ahmad Taufiq Gultom",
      "userId": "10302629685787931894"
     },
     "user_tz": -420
    },
    "id": "FVYwaObI8DC1"
   },
   "outputs": [],
   "source": [
    "import pandas as pd\n",
    "import seaborn as sns\n",
    "import matplotlib.pyplot as plt\n",
    "import calendar"
   ]
  },
  {
   "cell_type": "markdown",
   "metadata": {
    "id": "h_Sh51Xy8DC1"
   },
   "source": [
    "## Data Wrangling"
   ]
  },
  {
   "cell_type": "markdown",
   "metadata": {
    "id": "5xwpII5x6C3B"
   },
   "source": [
    "### Berkas Dataset"
   ]
  },
  {
   "cell_type": "markdown",
   "metadata": {
    "id": "XXFNyzlD6C3B"
   },
   "source": [
    "* Readme.txt\n",
    "* hour.csv: Tabel ini menyimpan data penyewaan sepeda yang dikumpulkan setiap jam. Total: 17.379 jam\n",
    "* day.csv: Tabel ini menyimpan data penyewaan sepeda yang dikumpulkan setiap hari. Total: 731 hari"
   ]
  },
  {
   "cell_type": "markdown",
   "metadata": {
    "id": "J2YNRlrR6C3C"
   },
   "source": [
    "### Karakteristik Dataset"
   ]
  },
  {
   "cell_type": "markdown",
   "metadata": {
    "id": "1O9LTz0u6C3C"
   },
   "source": [
    "Baik hour.csv maupun day.csv memiliki bidang berikut, kecuali hr yang tidak ada di day.csv:\n",
    "\n",
    "* instant: indeks rekaman\n",
    "* dteday: tanggal\n",
    "* season: musim (1: musim semi, 2: musim panas, 3: musim gugur, 4: musim dingin)\n",
    "* yr: tahun (0: 2011, 1: 2012)\n",
    "* mnth: bulan (1 hingga 12)\n",
    "* hr: jam (0 hingga 23)\n",
    "* holiday: apakah hari itu libur atau tidak (diambil dari Jadwal Libur)\n",
    "* weekday: hari dalam seminggu\n",
    "* workingday: apakah hari itu hari kerja (bukan akhir pekan atau hari libur)\n",
    "* weathersit: kondisi cuaca (1: Cerah, 2: Kabut + Berawan, 3: Hujan ringan, 4: Hujan deras + Badai)\n",
    "* temp: Suhu dalam Celsius (dinormalisasi)\n",
    "* atemp: Suhu terasa dalam Celsius (dinormalisasi)\n",
    "* hum: Kelembaban (dinormalisasi)\n",
    "* windspeed: Kecepatan angin (dinormalisasi)\n",
    "* casual: jumlah pengguna kasual\n",
    "* registered: jumlah pengguna terdaftar\n",
    "* cnt: total penyewaan sepeda termasuk pengguna kasual dan terdaftar"
   ]
  },
  {
   "cell_type": "markdown",
   "metadata": {
    "id": "sXU2GBYu8DC1"
   },
   "source": [
    "### Gathering Data"
   ]
  },
  {
   "cell_type": "code",
   "execution_count": 2,
   "metadata": {
    "colab": {
     "base_uri": "https://localhost:8080/",
     "height": 206
    },
    "executionInfo": {
     "elapsed": 5,
     "status": "ok",
     "timestamp": 1730574985046,
     "user": {
      "displayName": "Ahmad Taufiq Gultom",
      "userId": "10302629685787931894"
     },
     "user_tz": -420
    },
    "id": "zjCBk1BI8DC1",
    "outputId": "9613ae17-829b-4e1f-8d8e-98ef744144d9"
   },
   "outputs": [
    {
     "data": {
      "text/html": [
       "<div>\n",
       "<style scoped>\n",
       "    .dataframe tbody tr th:only-of-type {\n",
       "        vertical-align: middle;\n",
       "    }\n",
       "\n",
       "    .dataframe tbody tr th {\n",
       "        vertical-align: top;\n",
       "    }\n",
       "\n",
       "    .dataframe thead th {\n",
       "        text-align: right;\n",
       "    }\n",
       "</style>\n",
       "<table border=\"1\" class=\"dataframe\">\n",
       "  <thead>\n",
       "    <tr style=\"text-align: right;\">\n",
       "      <th></th>\n",
       "      <th>instant</th>\n",
       "      <th>dteday</th>\n",
       "      <th>season</th>\n",
       "      <th>yr</th>\n",
       "      <th>mnth</th>\n",
       "      <th>holiday</th>\n",
       "      <th>weekday</th>\n",
       "      <th>workingday</th>\n",
       "      <th>weathersit</th>\n",
       "      <th>temp</th>\n",
       "      <th>atemp</th>\n",
       "      <th>hum</th>\n",
       "      <th>windspeed</th>\n",
       "      <th>casual</th>\n",
       "      <th>registered</th>\n",
       "      <th>cnt</th>\n",
       "    </tr>\n",
       "  </thead>\n",
       "  <tbody>\n",
       "    <tr>\n",
       "      <th>0</th>\n",
       "      <td>1</td>\n",
       "      <td>2011-01-01</td>\n",
       "      <td>1</td>\n",
       "      <td>0</td>\n",
       "      <td>1</td>\n",
       "      <td>0</td>\n",
       "      <td>6</td>\n",
       "      <td>0</td>\n",
       "      <td>2</td>\n",
       "      <td>0.344167</td>\n",
       "      <td>0.363625</td>\n",
       "      <td>0.805833</td>\n",
       "      <td>0.160446</td>\n",
       "      <td>331</td>\n",
       "      <td>654</td>\n",
       "      <td>985</td>\n",
       "    </tr>\n",
       "    <tr>\n",
       "      <th>1</th>\n",
       "      <td>2</td>\n",
       "      <td>2011-01-02</td>\n",
       "      <td>1</td>\n",
       "      <td>0</td>\n",
       "      <td>1</td>\n",
       "      <td>0</td>\n",
       "      <td>0</td>\n",
       "      <td>0</td>\n",
       "      <td>2</td>\n",
       "      <td>0.363478</td>\n",
       "      <td>0.353739</td>\n",
       "      <td>0.696087</td>\n",
       "      <td>0.248539</td>\n",
       "      <td>131</td>\n",
       "      <td>670</td>\n",
       "      <td>801</td>\n",
       "    </tr>\n",
       "    <tr>\n",
       "      <th>2</th>\n",
       "      <td>3</td>\n",
       "      <td>2011-01-03</td>\n",
       "      <td>1</td>\n",
       "      <td>0</td>\n",
       "      <td>1</td>\n",
       "      <td>0</td>\n",
       "      <td>1</td>\n",
       "      <td>1</td>\n",
       "      <td>1</td>\n",
       "      <td>0.196364</td>\n",
       "      <td>0.189405</td>\n",
       "      <td>0.437273</td>\n",
       "      <td>0.248309</td>\n",
       "      <td>120</td>\n",
       "      <td>1229</td>\n",
       "      <td>1349</td>\n",
       "    </tr>\n",
       "    <tr>\n",
       "      <th>3</th>\n",
       "      <td>4</td>\n",
       "      <td>2011-01-04</td>\n",
       "      <td>1</td>\n",
       "      <td>0</td>\n",
       "      <td>1</td>\n",
       "      <td>0</td>\n",
       "      <td>2</td>\n",
       "      <td>1</td>\n",
       "      <td>1</td>\n",
       "      <td>0.200000</td>\n",
       "      <td>0.212122</td>\n",
       "      <td>0.590435</td>\n",
       "      <td>0.160296</td>\n",
       "      <td>108</td>\n",
       "      <td>1454</td>\n",
       "      <td>1562</td>\n",
       "    </tr>\n",
       "    <tr>\n",
       "      <th>4</th>\n",
       "      <td>5</td>\n",
       "      <td>2011-01-05</td>\n",
       "      <td>1</td>\n",
       "      <td>0</td>\n",
       "      <td>1</td>\n",
       "      <td>0</td>\n",
       "      <td>3</td>\n",
       "      <td>1</td>\n",
       "      <td>1</td>\n",
       "      <td>0.226957</td>\n",
       "      <td>0.229270</td>\n",
       "      <td>0.436957</td>\n",
       "      <td>0.186900</td>\n",
       "      <td>82</td>\n",
       "      <td>1518</td>\n",
       "      <td>1600</td>\n",
       "    </tr>\n",
       "  </tbody>\n",
       "</table>\n",
       "</div>"
      ],
      "text/plain": [
       "   instant      dteday  season  yr  mnth  holiday  weekday  workingday  \\\n",
       "0        1  2011-01-01       1   0     1        0        6           0   \n",
       "1        2  2011-01-02       1   0     1        0        0           0   \n",
       "2        3  2011-01-03       1   0     1        0        1           1   \n",
       "3        4  2011-01-04       1   0     1        0        2           1   \n",
       "4        5  2011-01-05       1   0     1        0        3           1   \n",
       "\n",
       "   weathersit      temp     atemp       hum  windspeed  casual  registered  \\\n",
       "0           2  0.344167  0.363625  0.805833   0.160446     331         654   \n",
       "1           2  0.363478  0.353739  0.696087   0.248539     131         670   \n",
       "2           1  0.196364  0.189405  0.437273   0.248309     120        1229   \n",
       "3           1  0.200000  0.212122  0.590435   0.160296     108        1454   \n",
       "4           1  0.226957  0.229270  0.436957   0.186900      82        1518   \n",
       "\n",
       "    cnt  \n",
       "0   985  \n",
       "1   801  \n",
       "2  1349  \n",
       "3  1562  \n",
       "4  1600  "
      ]
     },
     "execution_count": 2,
     "metadata": {},
     "output_type": "execute_result"
    }
   ],
   "source": [
    "# load dataset day.csv\n",
    "df_bikeday = pd.read_csv(\"data/day.csv\")\n",
    "df_bikeday.head()"
   ]
  },
  {
   "cell_type": "code",
   "execution_count": 3,
   "metadata": {
    "colab": {
     "base_uri": "https://localhost:8080/",
     "height": 320
    },
    "executionInfo": {
     "elapsed": 462,
     "status": "ok",
     "timestamp": 1730574985505,
     "user": {
      "displayName": "Ahmad Taufiq Gultom",
      "userId": "10302629685787931894"
     },
     "user_tz": -420
    },
    "id": "ZS_bMIP66C3F",
    "outputId": "dfad0fc0-27f2-4d09-9357-60b806f225e3"
   },
   "outputs": [
    {
     "data": {
      "text/html": [
       "<div>\n",
       "<style scoped>\n",
       "    .dataframe tbody tr th:only-of-type {\n",
       "        vertical-align: middle;\n",
       "    }\n",
       "\n",
       "    .dataframe tbody tr th {\n",
       "        vertical-align: top;\n",
       "    }\n",
       "\n",
       "    .dataframe thead th {\n",
       "        text-align: right;\n",
       "    }\n",
       "</style>\n",
       "<table border=\"1\" class=\"dataframe\">\n",
       "  <thead>\n",
       "    <tr style=\"text-align: right;\">\n",
       "      <th></th>\n",
       "      <th>instant</th>\n",
       "      <th>season</th>\n",
       "      <th>yr</th>\n",
       "      <th>mnth</th>\n",
       "      <th>holiday</th>\n",
       "      <th>weekday</th>\n",
       "      <th>workingday</th>\n",
       "      <th>weathersit</th>\n",
       "      <th>temp</th>\n",
       "      <th>atemp</th>\n",
       "      <th>hum</th>\n",
       "      <th>windspeed</th>\n",
       "      <th>casual</th>\n",
       "      <th>registered</th>\n",
       "      <th>cnt</th>\n",
       "    </tr>\n",
       "  </thead>\n",
       "  <tbody>\n",
       "    <tr>\n",
       "      <th>count</th>\n",
       "      <td>731.000000</td>\n",
       "      <td>731.000000</td>\n",
       "      <td>731.000000</td>\n",
       "      <td>731.000000</td>\n",
       "      <td>731.000000</td>\n",
       "      <td>731.000000</td>\n",
       "      <td>731.000000</td>\n",
       "      <td>731.000000</td>\n",
       "      <td>731.000000</td>\n",
       "      <td>731.000000</td>\n",
       "      <td>731.000000</td>\n",
       "      <td>731.000000</td>\n",
       "      <td>731.000000</td>\n",
       "      <td>731.000000</td>\n",
       "      <td>731.000000</td>\n",
       "    </tr>\n",
       "    <tr>\n",
       "      <th>mean</th>\n",
       "      <td>366.000000</td>\n",
       "      <td>2.496580</td>\n",
       "      <td>0.500684</td>\n",
       "      <td>6.519836</td>\n",
       "      <td>0.028728</td>\n",
       "      <td>2.997264</td>\n",
       "      <td>0.683995</td>\n",
       "      <td>1.395349</td>\n",
       "      <td>0.495385</td>\n",
       "      <td>0.474354</td>\n",
       "      <td>0.627894</td>\n",
       "      <td>0.190486</td>\n",
       "      <td>848.176471</td>\n",
       "      <td>3656.172367</td>\n",
       "      <td>4504.348837</td>\n",
       "    </tr>\n",
       "    <tr>\n",
       "      <th>std</th>\n",
       "      <td>211.165812</td>\n",
       "      <td>1.110807</td>\n",
       "      <td>0.500342</td>\n",
       "      <td>3.451913</td>\n",
       "      <td>0.167155</td>\n",
       "      <td>2.004787</td>\n",
       "      <td>0.465233</td>\n",
       "      <td>0.544894</td>\n",
       "      <td>0.183051</td>\n",
       "      <td>0.162961</td>\n",
       "      <td>0.142429</td>\n",
       "      <td>0.077498</td>\n",
       "      <td>686.622488</td>\n",
       "      <td>1560.256377</td>\n",
       "      <td>1937.211452</td>\n",
       "    </tr>\n",
       "    <tr>\n",
       "      <th>min</th>\n",
       "      <td>1.000000</td>\n",
       "      <td>1.000000</td>\n",
       "      <td>0.000000</td>\n",
       "      <td>1.000000</td>\n",
       "      <td>0.000000</td>\n",
       "      <td>0.000000</td>\n",
       "      <td>0.000000</td>\n",
       "      <td>1.000000</td>\n",
       "      <td>0.059130</td>\n",
       "      <td>0.079070</td>\n",
       "      <td>0.000000</td>\n",
       "      <td>0.022392</td>\n",
       "      <td>2.000000</td>\n",
       "      <td>20.000000</td>\n",
       "      <td>22.000000</td>\n",
       "    </tr>\n",
       "    <tr>\n",
       "      <th>25%</th>\n",
       "      <td>183.500000</td>\n",
       "      <td>2.000000</td>\n",
       "      <td>0.000000</td>\n",
       "      <td>4.000000</td>\n",
       "      <td>0.000000</td>\n",
       "      <td>1.000000</td>\n",
       "      <td>0.000000</td>\n",
       "      <td>1.000000</td>\n",
       "      <td>0.337083</td>\n",
       "      <td>0.337842</td>\n",
       "      <td>0.520000</td>\n",
       "      <td>0.134950</td>\n",
       "      <td>315.500000</td>\n",
       "      <td>2497.000000</td>\n",
       "      <td>3152.000000</td>\n",
       "    </tr>\n",
       "    <tr>\n",
       "      <th>50%</th>\n",
       "      <td>366.000000</td>\n",
       "      <td>3.000000</td>\n",
       "      <td>1.000000</td>\n",
       "      <td>7.000000</td>\n",
       "      <td>0.000000</td>\n",
       "      <td>3.000000</td>\n",
       "      <td>1.000000</td>\n",
       "      <td>1.000000</td>\n",
       "      <td>0.498333</td>\n",
       "      <td>0.486733</td>\n",
       "      <td>0.626667</td>\n",
       "      <td>0.180975</td>\n",
       "      <td>713.000000</td>\n",
       "      <td>3662.000000</td>\n",
       "      <td>4548.000000</td>\n",
       "    </tr>\n",
       "    <tr>\n",
       "      <th>75%</th>\n",
       "      <td>548.500000</td>\n",
       "      <td>3.000000</td>\n",
       "      <td>1.000000</td>\n",
       "      <td>10.000000</td>\n",
       "      <td>0.000000</td>\n",
       "      <td>5.000000</td>\n",
       "      <td>1.000000</td>\n",
       "      <td>2.000000</td>\n",
       "      <td>0.655417</td>\n",
       "      <td>0.608602</td>\n",
       "      <td>0.730209</td>\n",
       "      <td>0.233214</td>\n",
       "      <td>1096.000000</td>\n",
       "      <td>4776.500000</td>\n",
       "      <td>5956.000000</td>\n",
       "    </tr>\n",
       "    <tr>\n",
       "      <th>max</th>\n",
       "      <td>731.000000</td>\n",
       "      <td>4.000000</td>\n",
       "      <td>1.000000</td>\n",
       "      <td>12.000000</td>\n",
       "      <td>1.000000</td>\n",
       "      <td>6.000000</td>\n",
       "      <td>1.000000</td>\n",
       "      <td>3.000000</td>\n",
       "      <td>0.861667</td>\n",
       "      <td>0.840896</td>\n",
       "      <td>0.972500</td>\n",
       "      <td>0.507463</td>\n",
       "      <td>3410.000000</td>\n",
       "      <td>6946.000000</td>\n",
       "      <td>8714.000000</td>\n",
       "    </tr>\n",
       "  </tbody>\n",
       "</table>\n",
       "</div>"
      ],
      "text/plain": [
       "          instant      season          yr        mnth     holiday     weekday  \\\n",
       "count  731.000000  731.000000  731.000000  731.000000  731.000000  731.000000   \n",
       "mean   366.000000    2.496580    0.500684    6.519836    0.028728    2.997264   \n",
       "std    211.165812    1.110807    0.500342    3.451913    0.167155    2.004787   \n",
       "min      1.000000    1.000000    0.000000    1.000000    0.000000    0.000000   \n",
       "25%    183.500000    2.000000    0.000000    4.000000    0.000000    1.000000   \n",
       "50%    366.000000    3.000000    1.000000    7.000000    0.000000    3.000000   \n",
       "75%    548.500000    3.000000    1.000000   10.000000    0.000000    5.000000   \n",
       "max    731.000000    4.000000    1.000000   12.000000    1.000000    6.000000   \n",
       "\n",
       "       workingday  weathersit        temp       atemp         hum   windspeed  \\\n",
       "count  731.000000  731.000000  731.000000  731.000000  731.000000  731.000000   \n",
       "mean     0.683995    1.395349    0.495385    0.474354    0.627894    0.190486   \n",
       "std      0.465233    0.544894    0.183051    0.162961    0.142429    0.077498   \n",
       "min      0.000000    1.000000    0.059130    0.079070    0.000000    0.022392   \n",
       "25%      0.000000    1.000000    0.337083    0.337842    0.520000    0.134950   \n",
       "50%      1.000000    1.000000    0.498333    0.486733    0.626667    0.180975   \n",
       "75%      1.000000    2.000000    0.655417    0.608602    0.730209    0.233214   \n",
       "max      1.000000    3.000000    0.861667    0.840896    0.972500    0.507463   \n",
       "\n",
       "            casual   registered          cnt  \n",
       "count   731.000000   731.000000   731.000000  \n",
       "mean    848.176471  3656.172367  4504.348837  \n",
       "std     686.622488  1560.256377  1937.211452  \n",
       "min       2.000000    20.000000    22.000000  \n",
       "25%     315.500000  2497.000000  3152.000000  \n",
       "50%     713.000000  3662.000000  4548.000000  \n",
       "75%    1096.000000  4776.500000  5956.000000  \n",
       "max    3410.000000  6946.000000  8714.000000  "
      ]
     },
     "execution_count": 3,
     "metadata": {},
     "output_type": "execute_result"
    }
   ],
   "source": [
    "df_bikeday.describe()"
   ]
  },
  {
   "cell_type": "markdown",
   "metadata": {
    "id": "MMi6xGaDkbCi"
   },
   "source": [
    "**Insight:**\n",
    "- Jika diperhatikan, tidak terdapat keanehan pada dataset day.csv, terutama pada nilai max ataupun min\n",
    "- Tidak terdapat nilai null, semua kolom memiliki jumlah 731"
   ]
  },
  {
   "cell_type": "code",
   "execution_count": 4,
   "metadata": {
    "colab": {
     "base_uri": "https://localhost:8080/",
     "height": 206
    },
    "executionInfo": {
     "elapsed": 24,
     "status": "ok",
     "timestamp": 1730574985505,
     "user": {
      "displayName": "Ahmad Taufiq Gultom",
      "userId": "10302629685787931894"
     },
     "user_tz": -420
    },
    "id": "HMJsvZ586C3F",
    "outputId": "d0d5858b-e19d-4371-ea70-d4f3ce17d283"
   },
   "outputs": [
    {
     "data": {
      "text/html": [
       "<div>\n",
       "<style scoped>\n",
       "    .dataframe tbody tr th:only-of-type {\n",
       "        vertical-align: middle;\n",
       "    }\n",
       "\n",
       "    .dataframe tbody tr th {\n",
       "        vertical-align: top;\n",
       "    }\n",
       "\n",
       "    .dataframe thead th {\n",
       "        text-align: right;\n",
       "    }\n",
       "</style>\n",
       "<table border=\"1\" class=\"dataframe\">\n",
       "  <thead>\n",
       "    <tr style=\"text-align: right;\">\n",
       "      <th></th>\n",
       "      <th>instant</th>\n",
       "      <th>dteday</th>\n",
       "      <th>season</th>\n",
       "      <th>yr</th>\n",
       "      <th>mnth</th>\n",
       "      <th>hr</th>\n",
       "      <th>holiday</th>\n",
       "      <th>weekday</th>\n",
       "      <th>workingday</th>\n",
       "      <th>weathersit</th>\n",
       "      <th>temp</th>\n",
       "      <th>atemp</th>\n",
       "      <th>hum</th>\n",
       "      <th>windspeed</th>\n",
       "      <th>casual</th>\n",
       "      <th>registered</th>\n",
       "      <th>cnt</th>\n",
       "    </tr>\n",
       "  </thead>\n",
       "  <tbody>\n",
       "    <tr>\n",
       "      <th>0</th>\n",
       "      <td>1</td>\n",
       "      <td>2011-01-01</td>\n",
       "      <td>1</td>\n",
       "      <td>0</td>\n",
       "      <td>1</td>\n",
       "      <td>0</td>\n",
       "      <td>0</td>\n",
       "      <td>6</td>\n",
       "      <td>0</td>\n",
       "      <td>1</td>\n",
       "      <td>0.24</td>\n",
       "      <td>0.2879</td>\n",
       "      <td>0.81</td>\n",
       "      <td>0.0</td>\n",
       "      <td>3</td>\n",
       "      <td>13</td>\n",
       "      <td>16</td>\n",
       "    </tr>\n",
       "    <tr>\n",
       "      <th>1</th>\n",
       "      <td>2</td>\n",
       "      <td>2011-01-01</td>\n",
       "      <td>1</td>\n",
       "      <td>0</td>\n",
       "      <td>1</td>\n",
       "      <td>1</td>\n",
       "      <td>0</td>\n",
       "      <td>6</td>\n",
       "      <td>0</td>\n",
       "      <td>1</td>\n",
       "      <td>0.22</td>\n",
       "      <td>0.2727</td>\n",
       "      <td>0.80</td>\n",
       "      <td>0.0</td>\n",
       "      <td>8</td>\n",
       "      <td>32</td>\n",
       "      <td>40</td>\n",
       "    </tr>\n",
       "    <tr>\n",
       "      <th>2</th>\n",
       "      <td>3</td>\n",
       "      <td>2011-01-01</td>\n",
       "      <td>1</td>\n",
       "      <td>0</td>\n",
       "      <td>1</td>\n",
       "      <td>2</td>\n",
       "      <td>0</td>\n",
       "      <td>6</td>\n",
       "      <td>0</td>\n",
       "      <td>1</td>\n",
       "      <td>0.22</td>\n",
       "      <td>0.2727</td>\n",
       "      <td>0.80</td>\n",
       "      <td>0.0</td>\n",
       "      <td>5</td>\n",
       "      <td>27</td>\n",
       "      <td>32</td>\n",
       "    </tr>\n",
       "    <tr>\n",
       "      <th>3</th>\n",
       "      <td>4</td>\n",
       "      <td>2011-01-01</td>\n",
       "      <td>1</td>\n",
       "      <td>0</td>\n",
       "      <td>1</td>\n",
       "      <td>3</td>\n",
       "      <td>0</td>\n",
       "      <td>6</td>\n",
       "      <td>0</td>\n",
       "      <td>1</td>\n",
       "      <td>0.24</td>\n",
       "      <td>0.2879</td>\n",
       "      <td>0.75</td>\n",
       "      <td>0.0</td>\n",
       "      <td>3</td>\n",
       "      <td>10</td>\n",
       "      <td>13</td>\n",
       "    </tr>\n",
       "    <tr>\n",
       "      <th>4</th>\n",
       "      <td>5</td>\n",
       "      <td>2011-01-01</td>\n",
       "      <td>1</td>\n",
       "      <td>0</td>\n",
       "      <td>1</td>\n",
       "      <td>4</td>\n",
       "      <td>0</td>\n",
       "      <td>6</td>\n",
       "      <td>0</td>\n",
       "      <td>1</td>\n",
       "      <td>0.24</td>\n",
       "      <td>0.2879</td>\n",
       "      <td>0.75</td>\n",
       "      <td>0.0</td>\n",
       "      <td>0</td>\n",
       "      <td>1</td>\n",
       "      <td>1</td>\n",
       "    </tr>\n",
       "  </tbody>\n",
       "</table>\n",
       "</div>"
      ],
      "text/plain": [
       "   instant      dteday  season  yr  mnth  hr  holiday  weekday  workingday  \\\n",
       "0        1  2011-01-01       1   0     1   0        0        6           0   \n",
       "1        2  2011-01-01       1   0     1   1        0        6           0   \n",
       "2        3  2011-01-01       1   0     1   2        0        6           0   \n",
       "3        4  2011-01-01       1   0     1   3        0        6           0   \n",
       "4        5  2011-01-01       1   0     1   4        0        6           0   \n",
       "\n",
       "   weathersit  temp   atemp   hum  windspeed  casual  registered  cnt  \n",
       "0           1  0.24  0.2879  0.81        0.0       3          13   16  \n",
       "1           1  0.22  0.2727  0.80        0.0       8          32   40  \n",
       "2           1  0.22  0.2727  0.80        0.0       5          27   32  \n",
       "3           1  0.24  0.2879  0.75        0.0       3          10   13  \n",
       "4           1  0.24  0.2879  0.75        0.0       0           1    1  "
      ]
     },
     "execution_count": 4,
     "metadata": {},
     "output_type": "execute_result"
    }
   ],
   "source": [
    "# load dataset hour.csv\n",
    "df_bikehour = pd.read_csv(\"data/hour.csv\")\n",
    "df_bikehour.head()"
   ]
  },
  {
   "cell_type": "code",
   "execution_count": 5,
   "metadata": {
    "colab": {
     "base_uri": "https://localhost:8080/",
     "height": 320
    },
    "executionInfo": {
     "elapsed": 23,
     "status": "ok",
     "timestamp": 1730574985505,
     "user": {
      "displayName": "Ahmad Taufiq Gultom",
      "userId": "10302629685787931894"
     },
     "user_tz": -420
    },
    "id": "XqilOQyZ6C3F",
    "outputId": "7103fe4f-90e9-4cc4-8bd1-16107c6a93f5"
   },
   "outputs": [
    {
     "data": {
      "text/html": [
       "<div>\n",
       "<style scoped>\n",
       "    .dataframe tbody tr th:only-of-type {\n",
       "        vertical-align: middle;\n",
       "    }\n",
       "\n",
       "    .dataframe tbody tr th {\n",
       "        vertical-align: top;\n",
       "    }\n",
       "\n",
       "    .dataframe thead th {\n",
       "        text-align: right;\n",
       "    }\n",
       "</style>\n",
       "<table border=\"1\" class=\"dataframe\">\n",
       "  <thead>\n",
       "    <tr style=\"text-align: right;\">\n",
       "      <th></th>\n",
       "      <th>instant</th>\n",
       "      <th>season</th>\n",
       "      <th>yr</th>\n",
       "      <th>mnth</th>\n",
       "      <th>hr</th>\n",
       "      <th>holiday</th>\n",
       "      <th>weekday</th>\n",
       "      <th>workingday</th>\n",
       "      <th>weathersit</th>\n",
       "      <th>temp</th>\n",
       "      <th>atemp</th>\n",
       "      <th>hum</th>\n",
       "      <th>windspeed</th>\n",
       "      <th>casual</th>\n",
       "      <th>registered</th>\n",
       "      <th>cnt</th>\n",
       "    </tr>\n",
       "  </thead>\n",
       "  <tbody>\n",
       "    <tr>\n",
       "      <th>count</th>\n",
       "      <td>17379.0000</td>\n",
       "      <td>17379.000000</td>\n",
       "      <td>17379.000000</td>\n",
       "      <td>17379.000000</td>\n",
       "      <td>17379.000000</td>\n",
       "      <td>17379.000000</td>\n",
       "      <td>17379.000000</td>\n",
       "      <td>17379.000000</td>\n",
       "      <td>17379.000000</td>\n",
       "      <td>17379.000000</td>\n",
       "      <td>17379.000000</td>\n",
       "      <td>17379.000000</td>\n",
       "      <td>17379.000000</td>\n",
       "      <td>17379.000000</td>\n",
       "      <td>17379.000000</td>\n",
       "      <td>17379.000000</td>\n",
       "    </tr>\n",
       "    <tr>\n",
       "      <th>mean</th>\n",
       "      <td>8690.0000</td>\n",
       "      <td>2.501640</td>\n",
       "      <td>0.502561</td>\n",
       "      <td>6.537775</td>\n",
       "      <td>11.546752</td>\n",
       "      <td>0.028770</td>\n",
       "      <td>3.003683</td>\n",
       "      <td>0.682721</td>\n",
       "      <td>1.425283</td>\n",
       "      <td>0.496987</td>\n",
       "      <td>0.475775</td>\n",
       "      <td>0.627229</td>\n",
       "      <td>0.190098</td>\n",
       "      <td>35.676218</td>\n",
       "      <td>153.786869</td>\n",
       "      <td>189.463088</td>\n",
       "    </tr>\n",
       "    <tr>\n",
       "      <th>std</th>\n",
       "      <td>5017.0295</td>\n",
       "      <td>1.106918</td>\n",
       "      <td>0.500008</td>\n",
       "      <td>3.438776</td>\n",
       "      <td>6.914405</td>\n",
       "      <td>0.167165</td>\n",
       "      <td>2.005771</td>\n",
       "      <td>0.465431</td>\n",
       "      <td>0.639357</td>\n",
       "      <td>0.192556</td>\n",
       "      <td>0.171850</td>\n",
       "      <td>0.192930</td>\n",
       "      <td>0.122340</td>\n",
       "      <td>49.305030</td>\n",
       "      <td>151.357286</td>\n",
       "      <td>181.387599</td>\n",
       "    </tr>\n",
       "    <tr>\n",
       "      <th>min</th>\n",
       "      <td>1.0000</td>\n",
       "      <td>1.000000</td>\n",
       "      <td>0.000000</td>\n",
       "      <td>1.000000</td>\n",
       "      <td>0.000000</td>\n",
       "      <td>0.000000</td>\n",
       "      <td>0.000000</td>\n",
       "      <td>0.000000</td>\n",
       "      <td>1.000000</td>\n",
       "      <td>0.020000</td>\n",
       "      <td>0.000000</td>\n",
       "      <td>0.000000</td>\n",
       "      <td>0.000000</td>\n",
       "      <td>0.000000</td>\n",
       "      <td>0.000000</td>\n",
       "      <td>1.000000</td>\n",
       "    </tr>\n",
       "    <tr>\n",
       "      <th>25%</th>\n",
       "      <td>4345.5000</td>\n",
       "      <td>2.000000</td>\n",
       "      <td>0.000000</td>\n",
       "      <td>4.000000</td>\n",
       "      <td>6.000000</td>\n",
       "      <td>0.000000</td>\n",
       "      <td>1.000000</td>\n",
       "      <td>0.000000</td>\n",
       "      <td>1.000000</td>\n",
       "      <td>0.340000</td>\n",
       "      <td>0.333300</td>\n",
       "      <td>0.480000</td>\n",
       "      <td>0.104500</td>\n",
       "      <td>4.000000</td>\n",
       "      <td>34.000000</td>\n",
       "      <td>40.000000</td>\n",
       "    </tr>\n",
       "    <tr>\n",
       "      <th>50%</th>\n",
       "      <td>8690.0000</td>\n",
       "      <td>3.000000</td>\n",
       "      <td>1.000000</td>\n",
       "      <td>7.000000</td>\n",
       "      <td>12.000000</td>\n",
       "      <td>0.000000</td>\n",
       "      <td>3.000000</td>\n",
       "      <td>1.000000</td>\n",
       "      <td>1.000000</td>\n",
       "      <td>0.500000</td>\n",
       "      <td>0.484800</td>\n",
       "      <td>0.630000</td>\n",
       "      <td>0.194000</td>\n",
       "      <td>17.000000</td>\n",
       "      <td>115.000000</td>\n",
       "      <td>142.000000</td>\n",
       "    </tr>\n",
       "    <tr>\n",
       "      <th>75%</th>\n",
       "      <td>13034.5000</td>\n",
       "      <td>3.000000</td>\n",
       "      <td>1.000000</td>\n",
       "      <td>10.000000</td>\n",
       "      <td>18.000000</td>\n",
       "      <td>0.000000</td>\n",
       "      <td>5.000000</td>\n",
       "      <td>1.000000</td>\n",
       "      <td>2.000000</td>\n",
       "      <td>0.660000</td>\n",
       "      <td>0.621200</td>\n",
       "      <td>0.780000</td>\n",
       "      <td>0.253700</td>\n",
       "      <td>48.000000</td>\n",
       "      <td>220.000000</td>\n",
       "      <td>281.000000</td>\n",
       "    </tr>\n",
       "    <tr>\n",
       "      <th>max</th>\n",
       "      <td>17379.0000</td>\n",
       "      <td>4.000000</td>\n",
       "      <td>1.000000</td>\n",
       "      <td>12.000000</td>\n",
       "      <td>23.000000</td>\n",
       "      <td>1.000000</td>\n",
       "      <td>6.000000</td>\n",
       "      <td>1.000000</td>\n",
       "      <td>4.000000</td>\n",
       "      <td>1.000000</td>\n",
       "      <td>1.000000</td>\n",
       "      <td>1.000000</td>\n",
       "      <td>0.850700</td>\n",
       "      <td>367.000000</td>\n",
       "      <td>886.000000</td>\n",
       "      <td>977.000000</td>\n",
       "    </tr>\n",
       "  </tbody>\n",
       "</table>\n",
       "</div>"
      ],
      "text/plain": [
       "          instant        season            yr          mnth            hr  \\\n",
       "count  17379.0000  17379.000000  17379.000000  17379.000000  17379.000000   \n",
       "mean    8690.0000      2.501640      0.502561      6.537775     11.546752   \n",
       "std     5017.0295      1.106918      0.500008      3.438776      6.914405   \n",
       "min        1.0000      1.000000      0.000000      1.000000      0.000000   \n",
       "25%     4345.5000      2.000000      0.000000      4.000000      6.000000   \n",
       "50%     8690.0000      3.000000      1.000000      7.000000     12.000000   \n",
       "75%    13034.5000      3.000000      1.000000     10.000000     18.000000   \n",
       "max    17379.0000      4.000000      1.000000     12.000000     23.000000   \n",
       "\n",
       "            holiday       weekday    workingday    weathersit          temp  \\\n",
       "count  17379.000000  17379.000000  17379.000000  17379.000000  17379.000000   \n",
       "mean       0.028770      3.003683      0.682721      1.425283      0.496987   \n",
       "std        0.167165      2.005771      0.465431      0.639357      0.192556   \n",
       "min        0.000000      0.000000      0.000000      1.000000      0.020000   \n",
       "25%        0.000000      1.000000      0.000000      1.000000      0.340000   \n",
       "50%        0.000000      3.000000      1.000000      1.000000      0.500000   \n",
       "75%        0.000000      5.000000      1.000000      2.000000      0.660000   \n",
       "max        1.000000      6.000000      1.000000      4.000000      1.000000   \n",
       "\n",
       "              atemp           hum     windspeed        casual    registered  \\\n",
       "count  17379.000000  17379.000000  17379.000000  17379.000000  17379.000000   \n",
       "mean       0.475775      0.627229      0.190098     35.676218    153.786869   \n",
       "std        0.171850      0.192930      0.122340     49.305030    151.357286   \n",
       "min        0.000000      0.000000      0.000000      0.000000      0.000000   \n",
       "25%        0.333300      0.480000      0.104500      4.000000     34.000000   \n",
       "50%        0.484800      0.630000      0.194000     17.000000    115.000000   \n",
       "75%        0.621200      0.780000      0.253700     48.000000    220.000000   \n",
       "max        1.000000      1.000000      0.850700    367.000000    886.000000   \n",
       "\n",
       "                cnt  \n",
       "count  17379.000000  \n",
       "mean     189.463088  \n",
       "std      181.387599  \n",
       "min        1.000000  \n",
       "25%       40.000000  \n",
       "50%      142.000000  \n",
       "75%      281.000000  \n",
       "max      977.000000  "
      ]
     },
     "execution_count": 5,
     "metadata": {},
     "output_type": "execute_result"
    }
   ],
   "source": [
    "df_bikehour.describe()"
   ]
  },
  {
   "cell_type": "markdown",
   "metadata": {
    "id": "S6OdCrrZ6C3F"
   },
   "source": [
    "**Insight:**\n",
    "- Jika diperhatikan, tidak terdapat keanehan pada dataset hour.csv, terutama pada nilai max ataupun min\n",
    "- Tidak terdapat nilai null, semua kolom memiliki jumlah 17379"
   ]
  },
  {
   "cell_type": "markdown",
   "metadata": {
    "id": "FHSiqaZp8DC1"
   },
   "source": [
    "### Assessing Data"
   ]
  },
  {
   "cell_type": "markdown",
   "metadata": {
    "id": "ax-3tEjc9Cj1"
   },
   "source": [
    "Proses ini kita akan menilai kualitas dari seluruh data yang akan digunakan. Penilaian ini bertujuan untuk melihat berbagai permasalahan yang ada dalam data tersebut."
   ]
  },
  {
   "cell_type": "markdown",
   "metadata": {
    "id": "z-jssLyq6C3G"
   },
   "source": [
    "#### Menilai data day.csv"
   ]
  },
  {
   "cell_type": "code",
   "execution_count": 6,
   "metadata": {
    "colab": {
     "base_uri": "https://localhost:8080/"
    },
    "executionInfo": {
     "elapsed": 23,
     "status": "ok",
     "timestamp": 1730574985506,
     "user": {
      "displayName": "Ahmad Taufiq Gultom",
      "userId": "10302629685787931894"
     },
     "user_tz": -420
    },
    "id": "hFClY-qt6C3G",
    "outputId": "dd94d9be-fd4d-497c-d900-a8c70652b10e"
   },
   "outputs": [
    {
     "name": "stdout",
     "output_type": "stream",
     "text": [
      "<class 'pandas.core.frame.DataFrame'>\n",
      "RangeIndex: 731 entries, 0 to 730\n",
      "Data columns (total 16 columns):\n",
      " #   Column      Non-Null Count  Dtype  \n",
      "---  ------      --------------  -----  \n",
      " 0   instant     731 non-null    int64  \n",
      " 1   dteday      731 non-null    object \n",
      " 2   season      731 non-null    int64  \n",
      " 3   yr          731 non-null    int64  \n",
      " 4   mnth        731 non-null    int64  \n",
      " 5   holiday     731 non-null    int64  \n",
      " 6   weekday     731 non-null    int64  \n",
      " 7   workingday  731 non-null    int64  \n",
      " 8   weathersit  731 non-null    int64  \n",
      " 9   temp        731 non-null    float64\n",
      " 10  atemp       731 non-null    float64\n",
      " 11  hum         731 non-null    float64\n",
      " 12  windspeed   731 non-null    float64\n",
      " 13  casual      731 non-null    int64  \n",
      " 14  registered  731 non-null    int64  \n",
      " 15  cnt         731 non-null    int64  \n",
      "dtypes: float64(4), int64(11), object(1)\n",
      "memory usage: 91.5+ KB\n"
     ]
    }
   ],
   "source": [
    "df_bikeday.info()"
   ]
  },
  {
   "cell_type": "code",
   "execution_count": 7,
   "metadata": {
    "colab": {
     "base_uri": "https://localhost:8080/"
    },
    "executionInfo": {
     "elapsed": 20,
     "status": "ok",
     "timestamp": 1730574985506,
     "user": {
      "displayName": "Ahmad Taufiq Gultom",
      "userId": "10302629685787931894"
     },
     "user_tz": -420
    },
    "id": "sXoqHlAV6C3G",
    "outputId": "24bef68e-7840-4532-e25e-6d401092b278"
   },
   "outputs": [
    {
     "name": "stdout",
     "output_type": "stream",
     "text": [
      "Jumlah duplikasi:  0\n"
     ]
    }
   ],
   "source": [
    "# cek duplikasi data\n",
    "print(\"Jumlah duplikasi: \", df_bikeday.duplicated().sum())"
   ]
  },
  {
   "cell_type": "code",
   "execution_count": 8,
   "metadata": {
    "colab": {
     "base_uri": "https://localhost:8080/",
     "height": 586
    },
    "executionInfo": {
     "elapsed": 18,
     "status": "ok",
     "timestamp": 1730574985506,
     "user": {
      "displayName": "Ahmad Taufiq Gultom",
      "userId": "10302629685787931894"
     },
     "user_tz": -420
    },
    "id": "Fjde7alS-D1G",
    "outputId": "ddf53eae-c299-4e4c-8531-63fbbd2b913a"
   },
   "outputs": [
    {
     "data": {
      "text/plain": [
       "instant       0\n",
       "dteday        0\n",
       "season        0\n",
       "yr            0\n",
       "mnth          0\n",
       "holiday       0\n",
       "weekday       0\n",
       "workingday    0\n",
       "weathersit    0\n",
       "temp          0\n",
       "atemp         0\n",
       "hum           0\n",
       "windspeed     0\n",
       "casual        0\n",
       "registered    0\n",
       "cnt           0\n",
       "dtype: int64"
      ]
     },
     "execution_count": 8,
     "metadata": {},
     "output_type": "execute_result"
    }
   ],
   "source": [
    "# cek data null\n",
    "df_bikeday.isna().sum()"
   ]
  },
  {
   "cell_type": "markdown",
   "metadata": {
    "id": "7dtxhAPrkhPL"
   },
   "source": [
    "**Insight:**\n",
    "- Tidak terdapat duplikasi data\n",
    "- Tidak terdapat data null\n",
    "- Terdapat kesalahan tipe data untuk kolom dteday, bukan object,  seharusnya adalah tipe data datetime. Untuk mengatasi masalah ini, kita akan mengganti tipe data dari object menjadi datetime."
   ]
  },
  {
   "cell_type": "markdown",
   "metadata": {
    "id": "jcNxJu6G6C3G"
   },
   "source": [
    "#### Menilai data hour.csv"
   ]
  },
  {
   "cell_type": "code",
   "execution_count": 9,
   "metadata": {
    "colab": {
     "base_uri": "https://localhost:8080/"
    },
    "executionInfo": {
     "elapsed": 16,
     "status": "ok",
     "timestamp": 1730574985506,
     "user": {
      "displayName": "Ahmad Taufiq Gultom",
      "userId": "10302629685787931894"
     },
     "user_tz": -420
    },
    "id": "NF9XJodZ6C3G",
    "outputId": "b151b1af-8c45-4703-a4d4-89c0cdc78cc2"
   },
   "outputs": [
    {
     "name": "stdout",
     "output_type": "stream",
     "text": [
      "<class 'pandas.core.frame.DataFrame'>\n",
      "RangeIndex: 17379 entries, 0 to 17378\n",
      "Data columns (total 17 columns):\n",
      " #   Column      Non-Null Count  Dtype  \n",
      "---  ------      --------------  -----  \n",
      " 0   instant     17379 non-null  int64  \n",
      " 1   dteday      17379 non-null  object \n",
      " 2   season      17379 non-null  int64  \n",
      " 3   yr          17379 non-null  int64  \n",
      " 4   mnth        17379 non-null  int64  \n",
      " 5   hr          17379 non-null  int64  \n",
      " 6   holiday     17379 non-null  int64  \n",
      " 7   weekday     17379 non-null  int64  \n",
      " 8   workingday  17379 non-null  int64  \n",
      " 9   weathersit  17379 non-null  int64  \n",
      " 10  temp        17379 non-null  float64\n",
      " 11  atemp       17379 non-null  float64\n",
      " 12  hum         17379 non-null  float64\n",
      " 13  windspeed   17379 non-null  float64\n",
      " 14  casual      17379 non-null  int64  \n",
      " 15  registered  17379 non-null  int64  \n",
      " 16  cnt         17379 non-null  int64  \n",
      "dtypes: float64(4), int64(12), object(1)\n",
      "memory usage: 2.3+ MB\n"
     ]
    }
   ],
   "source": [
    "df_bikehour.info()"
   ]
  },
  {
   "cell_type": "code",
   "execution_count": 10,
   "metadata": {
    "colab": {
     "base_uri": "https://localhost:8080/"
    },
    "executionInfo": {
     "elapsed": 14,
     "status": "ok",
     "timestamp": 1730574985506,
     "user": {
      "displayName": "Ahmad Taufiq Gultom",
      "userId": "10302629685787931894"
     },
     "user_tz": -420
    },
    "id": "SQ9jOyrZ6C3H",
    "outputId": "0027ec13-75a4-4b5a-80ce-e0ee6dcfddd6"
   },
   "outputs": [
    {
     "name": "stdout",
     "output_type": "stream",
     "text": [
      "Jumlah duplikasi :  0\n"
     ]
    }
   ],
   "source": [
    "# cek duplikasi data\n",
    "print(\"Jumlah duplikasi : \", df_bikehour.duplicated().sum())"
   ]
  },
  {
   "cell_type": "code",
   "execution_count": 11,
   "metadata": {
    "colab": {
     "base_uri": "https://localhost:8080/",
     "height": 617
    },
    "executionInfo": {
     "elapsed": 12,
     "status": "ok",
     "timestamp": 1730574985506,
     "user": {
      "displayName": "Ahmad Taufiq Gultom",
      "userId": "10302629685787931894"
     },
     "user_tz": -420
    },
    "id": "GXOpWU4o-eGS",
    "outputId": "c473a049-dd3c-4a91-d1c3-8ba0b53913dc"
   },
   "outputs": [
    {
     "data": {
      "text/plain": [
       "instant       0\n",
       "dteday        0\n",
       "season        0\n",
       "yr            0\n",
       "mnth          0\n",
       "hr            0\n",
       "holiday       0\n",
       "weekday       0\n",
       "workingday    0\n",
       "weathersit    0\n",
       "temp          0\n",
       "atemp         0\n",
       "hum           0\n",
       "windspeed     0\n",
       "casual        0\n",
       "registered    0\n",
       "cnt           0\n",
       "dtype: int64"
      ]
     },
     "execution_count": 11,
     "metadata": {},
     "output_type": "execute_result"
    }
   ],
   "source": [
    "# cek data null\n",
    "df_bikehour.isna().sum()"
   ]
  },
  {
   "cell_type": "markdown",
   "metadata": {
    "id": "mXSTFJIB6C3H"
   },
   "source": [
    "**Insight:**\n",
    "- Tidak terdapat duplikasi data\n",
    "- Tidak terdapat data null\n",
    "- Terdapat kesalahan tipe data untuk kolom dteday, seharusnya adalah tipe data datetime. Untuk mengatasi masalah ini, kita akan mengganti tipe data dari object menjadi datetime."
   ]
  },
  {
   "cell_type": "markdown",
   "metadata": {
    "id": "EhN5R4hr8DC1"
   },
   "source": [
    "### Cleaning Data"
   ]
  },
  {
   "cell_type": "markdown",
   "metadata": {
    "id": "hasqfLXr_RJB"
   },
   "source": [
    "Pada tahap ini, kita akan melakukan pembersihan data atas berbagai masalah yang telah teridentifikasi pada proses assessing data."
   ]
  },
  {
   "cell_type": "markdown",
   "metadata": {
    "id": "KgHjfm4d_dXp"
   },
   "source": [
    "**Mengubah tipe data datetime pada day.csv dan hour.csv**"
   ]
  },
  {
   "cell_type": "code",
   "execution_count": 12,
   "metadata": {
    "executionInfo": {
     "elapsed": 450,
     "status": "ok",
     "timestamp": 1730574985945,
     "user": {
      "displayName": "Ahmad Taufiq Gultom",
      "userId": "10302629685787931894"
     },
     "user_tz": -420
    },
    "id": "jVnYpprE9Evz"
   },
   "outputs": [],
   "source": [
    "# mengubah tipe data datetime pada data day.csv\n",
    "\n",
    "for i in [\"dteday\"]:\n",
    "    df_bikeday[i] = pd.to_datetime(df_bikeday[i])\n",
    "\n",
    "\n",
    "# mengubah tipe data datetime pada data hour.csv\n",
    "\n",
    "for i in [\"dteday\"]:\n",
    "    df_bikehour[i] = pd.to_datetime(df_bikehour[i])"
   ]
  },
  {
   "cell_type": "markdown",
   "metadata": {
    "id": "D4S88eER_wnq"
   },
   "source": [
    "**Memastikan tipe data berhasil diubah**"
   ]
  },
  {
   "cell_type": "code",
   "execution_count": 13,
   "metadata": {
    "colab": {
     "base_uri": "https://localhost:8080/"
    },
    "executionInfo": {
     "elapsed": 30,
     "status": "ok",
     "timestamp": 1730574985946,
     "user": {
      "displayName": "Ahmad Taufiq Gultom",
      "userId": "10302629685787931894"
     },
     "user_tz": -420
    },
    "id": "rTf_vUr46C3H",
    "outputId": "2335c650-b3fa-4ed0-cef6-c6d7cfbbbb76"
   },
   "outputs": [
    {
     "name": "stdout",
     "output_type": "stream",
     "text": [
      "<class 'pandas.core.frame.DataFrame'>\n",
      "RangeIndex: 731 entries, 0 to 730\n",
      "Data columns (total 16 columns):\n",
      " #   Column      Non-Null Count  Dtype         \n",
      "---  ------      --------------  -----         \n",
      " 0   instant     731 non-null    int64         \n",
      " 1   dteday      731 non-null    datetime64[ns]\n",
      " 2   season      731 non-null    int64         \n",
      " 3   yr          731 non-null    int64         \n",
      " 4   mnth        731 non-null    int64         \n",
      " 5   holiday     731 non-null    int64         \n",
      " 6   weekday     731 non-null    int64         \n",
      " 7   workingday  731 non-null    int64         \n",
      " 8   weathersit  731 non-null    int64         \n",
      " 9   temp        731 non-null    float64       \n",
      " 10  atemp       731 non-null    float64       \n",
      " 11  hum         731 non-null    float64       \n",
      " 12  windspeed   731 non-null    float64       \n",
      " 13  casual      731 non-null    int64         \n",
      " 14  registered  731 non-null    int64         \n",
      " 15  cnt         731 non-null    int64         \n",
      "dtypes: datetime64[ns](1), float64(4), int64(11)\n",
      "memory usage: 91.5 KB\n"
     ]
    }
   ],
   "source": [
    "df_bikeday.info()"
   ]
  },
  {
   "cell_type": "code",
   "execution_count": 14,
   "metadata": {
    "colab": {
     "base_uri": "https://localhost:8080/"
    },
    "executionInfo": {
     "elapsed": 28,
     "status": "ok",
     "timestamp": 1730574985946,
     "user": {
      "displayName": "Ahmad Taufiq Gultom",
      "userId": "10302629685787931894"
     },
     "user_tz": -420
    },
    "id": "GBV41hBi6C3H",
    "outputId": "0c767951-3d68-490d-a371-fec7e13837f6"
   },
   "outputs": [
    {
     "name": "stdout",
     "output_type": "stream",
     "text": [
      "<class 'pandas.core.frame.DataFrame'>\n",
      "RangeIndex: 17379 entries, 0 to 17378\n",
      "Data columns (total 17 columns):\n",
      " #   Column      Non-Null Count  Dtype         \n",
      "---  ------      --------------  -----         \n",
      " 0   instant     17379 non-null  int64         \n",
      " 1   dteday      17379 non-null  datetime64[ns]\n",
      " 2   season      17379 non-null  int64         \n",
      " 3   yr          17379 non-null  int64         \n",
      " 4   mnth        17379 non-null  int64         \n",
      " 5   hr          17379 non-null  int64         \n",
      " 6   holiday     17379 non-null  int64         \n",
      " 7   weekday     17379 non-null  int64         \n",
      " 8   workingday  17379 non-null  int64         \n",
      " 9   weathersit  17379 non-null  int64         \n",
      " 10  temp        17379 non-null  float64       \n",
      " 11  atemp       17379 non-null  float64       \n",
      " 12  hum         17379 non-null  float64       \n",
      " 13  windspeed   17379 non-null  float64       \n",
      " 14  casual      17379 non-null  int64         \n",
      " 15  registered  17379 non-null  int64         \n",
      " 16  cnt         17379 non-null  int64         \n",
      "dtypes: datetime64[ns](1), float64(4), int64(12)\n",
      "memory usage: 2.3 MB\n"
     ]
    }
   ],
   "source": [
    "df_bikehour.info()"
   ]
  },
  {
   "cell_type": "markdown",
   "metadata": {
    "id": "Q_5ejIqckiSP"
   },
   "source": [
    "**Insight:**\n",
    "- Tipe data dteday pada day.csv telah berhasil diubah menjadi datetime\n",
    "- Tipe data dteday pada hour.csv telah berhasil diubah menjadi datetime"
   ]
  },
  {
   "cell_type": "markdown",
   "metadata": {
    "id": "gp-Y6wU38DC1"
   },
   "source": [
    "## Exploratory Data Analysis (EDA)"
   ]
  },
  {
   "cell_type": "markdown",
   "metadata": {
    "id": "MW7WF2kr8DC1"
   },
   "source": [
    "### Explore data day.csv"
   ]
  },
  {
   "cell_type": "code",
   "execution_count": 15,
   "metadata": {
    "colab": {
     "base_uri": "https://localhost:8080/",
     "height": 206
    },
    "executionInfo": {
     "elapsed": 26,
     "status": "ok",
     "timestamp": 1730574985946,
     "user": {
      "displayName": "Ahmad Taufiq Gultom",
      "userId": "10302629685787931894"
     },
     "user_tz": -420
    },
    "id": "e9CQCZjk8DC2",
    "outputId": "3560aca5-4a93-44ec-e417-02297721ff9e"
   },
   "outputs": [
    {
     "data": {
      "text/html": [
       "<div>\n",
       "<style scoped>\n",
       "    .dataframe tbody tr th:only-of-type {\n",
       "        vertical-align: middle;\n",
       "    }\n",
       "\n",
       "    .dataframe tbody tr th {\n",
       "        vertical-align: top;\n",
       "    }\n",
       "\n",
       "    .dataframe thead th {\n",
       "        text-align: right;\n",
       "    }\n",
       "</style>\n",
       "<table border=\"1\" class=\"dataframe\">\n",
       "  <thead>\n",
       "    <tr style=\"text-align: right;\">\n",
       "      <th></th>\n",
       "      <th>casual</th>\n",
       "      <th>registered</th>\n",
       "      <th>cnt</th>\n",
       "    </tr>\n",
       "    <tr>\n",
       "      <th>season</th>\n",
       "      <th></th>\n",
       "      <th></th>\n",
       "      <th></th>\n",
       "    </tr>\n",
       "  </thead>\n",
       "  <tbody>\n",
       "    <tr>\n",
       "      <th>3</th>\n",
       "      <td>226091</td>\n",
       "      <td>835038</td>\n",
       "      <td>1061129</td>\n",
       "    </tr>\n",
       "    <tr>\n",
       "      <th>2</th>\n",
       "      <td>203522</td>\n",
       "      <td>715067</td>\n",
       "      <td>918589</td>\n",
       "    </tr>\n",
       "    <tr>\n",
       "      <th>4</th>\n",
       "      <td>129782</td>\n",
       "      <td>711831</td>\n",
       "      <td>841613</td>\n",
       "    </tr>\n",
       "    <tr>\n",
       "      <th>1</th>\n",
       "      <td>60622</td>\n",
       "      <td>410726</td>\n",
       "      <td>471348</td>\n",
       "    </tr>\n",
       "  </tbody>\n",
       "</table>\n",
       "</div>"
      ],
      "text/plain": [
       "        casual  registered      cnt\n",
       "season                             \n",
       "3       226091      835038  1061129\n",
       "2       203522      715067   918589\n",
       "4       129782      711831   841613\n",
       "1        60622      410726   471348"
      ]
     },
     "execution_count": 15,
     "metadata": {},
     "output_type": "execute_result"
    }
   ],
   "source": [
    "# menghitung jumlah penyewaan sepeda berdasarkan cuaca\n",
    "df_bikeday.groupby(\"season\")[[\"casual\", \"registered\", \"cnt\"]].sum().sort_values(by=\"cnt\", ascending=False)"
   ]
  },
  {
   "cell_type": "code",
   "execution_count": 16,
   "metadata": {
    "colab": {
     "base_uri": "https://localhost:8080/",
     "height": 175
    },
    "executionInfo": {
     "elapsed": 25,
     "status": "ok",
     "timestamp": 1730574985946,
     "user": {
      "displayName": "Ahmad Taufiq Gultom",
      "userId": "10302629685787931894"
     },
     "user_tz": -420
    },
    "id": "90xvWHRr6C3N",
    "outputId": "20d8de95-de3e-454b-ee57-3be9687e2232"
   },
   "outputs": [
    {
     "data": {
      "text/html": [
       "<div>\n",
       "<style scoped>\n",
       "    .dataframe tbody tr th:only-of-type {\n",
       "        vertical-align: middle;\n",
       "    }\n",
       "\n",
       "    .dataframe tbody tr th {\n",
       "        vertical-align: top;\n",
       "    }\n",
       "\n",
       "    .dataframe thead th {\n",
       "        text-align: right;\n",
       "    }\n",
       "</style>\n",
       "<table border=\"1\" class=\"dataframe\">\n",
       "  <thead>\n",
       "    <tr style=\"text-align: right;\">\n",
       "      <th></th>\n",
       "      <th>season</th>\n",
       "      <th>season_name</th>\n",
       "      <th>casual</th>\n",
       "      <th>registered</th>\n",
       "      <th>cnt</th>\n",
       "    </tr>\n",
       "  </thead>\n",
       "  <tbody>\n",
       "    <tr>\n",
       "      <th>2</th>\n",
       "      <td>3</td>\n",
       "      <td>Fall</td>\n",
       "      <td>226091</td>\n",
       "      <td>835038</td>\n",
       "      <td>1061129</td>\n",
       "    </tr>\n",
       "    <tr>\n",
       "      <th>1</th>\n",
       "      <td>2</td>\n",
       "      <td>Summer</td>\n",
       "      <td>203522</td>\n",
       "      <td>715067</td>\n",
       "      <td>918589</td>\n",
       "    </tr>\n",
       "    <tr>\n",
       "      <th>3</th>\n",
       "      <td>4</td>\n",
       "      <td>Winter</td>\n",
       "      <td>129782</td>\n",
       "      <td>711831</td>\n",
       "      <td>841613</td>\n",
       "    </tr>\n",
       "    <tr>\n",
       "      <th>0</th>\n",
       "      <td>1</td>\n",
       "      <td>Spring</td>\n",
       "      <td>60622</td>\n",
       "      <td>410726</td>\n",
       "      <td>471348</td>\n",
       "    </tr>\n",
       "  </tbody>\n",
       "</table>\n",
       "</div>"
      ],
      "text/plain": [
       "   season season_name  casual  registered      cnt\n",
       "2       3        Fall  226091      835038  1061129\n",
       "1       2      Summer  203522      715067   918589\n",
       "3       4      Winter  129782      711831   841613\n",
       "0       1      Spring   60622      410726   471348"
      ]
     },
     "execution_count": 16,
     "metadata": {},
     "output_type": "execute_result"
    }
   ],
   "source": [
    "# Membuat dictionary untuk mapping kode season ke nama musim\n",
    "season_mapping = {\n",
    "    1: 'Spring',\n",
    "    2: 'Summer',\n",
    "    3: 'Fall',\n",
    "    4: 'Winter'\n",
    "}\n",
    "\n",
    "# Menghitung total 'cnt' per season dan menambahkan nama musim sebagai kolom\n",
    "groupby_season = df_bikeday.groupby('season')[['casual', 'registered', 'cnt']].sum().reset_index()\n",
    "groupby_season['season_name'] = groupby_season['season'].map(season_mapping)\n",
    "\n",
    "# Menampilkan hasil\n",
    "groupby_season = groupby_season[['season', 'season_name', 'casual', 'registered' ,'cnt']]\n",
    "groupby_season.sort_values(by='cnt', ascending=False)"
   ]
  },
  {
   "cell_type": "code",
   "execution_count": 17,
   "metadata": {
    "colab": {
     "base_uri": "https://localhost:8080/",
     "height": 175
    },
    "executionInfo": {
     "elapsed": 24,
     "status": "ok",
     "timestamp": 1730574985946,
     "user": {
      "displayName": "Ahmad Taufiq Gultom",
      "userId": "10302629685787931894"
     },
     "user_tz": -420
    },
    "id": "BODr3WIgkuP4",
    "outputId": "bd0fb175-f98c-49a1-fbac-97063f33c097"
   },
   "outputs": [
    {
     "data": {
      "text/html": [
       "<div>\n",
       "<style scoped>\n",
       "    .dataframe tbody tr th:only-of-type {\n",
       "        vertical-align: middle;\n",
       "    }\n",
       "\n",
       "    .dataframe tbody tr th {\n",
       "        vertical-align: top;\n",
       "    }\n",
       "\n",
       "    .dataframe thead th {\n",
       "        text-align: right;\n",
       "    }\n",
       "</style>\n",
       "<table border=\"1\" class=\"dataframe\">\n",
       "  <thead>\n",
       "    <tr style=\"text-align: right;\">\n",
       "      <th></th>\n",
       "      <th>casual</th>\n",
       "      <th>registered</th>\n",
       "      <th>cnt</th>\n",
       "    </tr>\n",
       "    <tr>\n",
       "      <th>weathersit</th>\n",
       "      <th></th>\n",
       "      <th></th>\n",
       "      <th></th>\n",
       "    </tr>\n",
       "  </thead>\n",
       "  <tbody>\n",
       "    <tr>\n",
       "      <th>1</th>\n",
       "      <td>446346</td>\n",
       "      <td>1811606</td>\n",
       "      <td>2257952</td>\n",
       "    </tr>\n",
       "    <tr>\n",
       "      <th>2</th>\n",
       "      <td>169776</td>\n",
       "      <td>827082</td>\n",
       "      <td>996858</td>\n",
       "    </tr>\n",
       "    <tr>\n",
       "      <th>3</th>\n",
       "      <td>3895</td>\n",
       "      <td>33974</td>\n",
       "      <td>37869</td>\n",
       "    </tr>\n",
       "  </tbody>\n",
       "</table>\n",
       "</div>"
      ],
      "text/plain": [
       "            casual  registered      cnt\n",
       "weathersit                             \n",
       "1           446346     1811606  2257952\n",
       "2           169776      827082   996858\n",
       "3             3895       33974    37869"
      ]
     },
     "execution_count": 17,
     "metadata": {},
     "output_type": "execute_result"
    }
   ],
   "source": [
    "# menghitung jumlah penyewaan sepeda berdasarkan cuaca\n",
    "df_bikeday.groupby(\"weathersit\")[[\"casual\", \"registered\", \"cnt\"]].sum().sort_values(by=\"cnt\", ascending=False)"
   ]
  },
  {
   "cell_type": "code",
   "execution_count": 18,
   "metadata": {
    "colab": {
     "base_uri": "https://localhost:8080/",
     "height": 300
    },
    "executionInfo": {
     "elapsed": 23,
     "status": "ok",
     "timestamp": 1730574985946,
     "user": {
      "displayName": "Ahmad Taufiq Gultom",
      "userId": "10302629685787931894"
     },
     "user_tz": -420
    },
    "id": "W2gRCb4e6C3N",
    "outputId": "b87e5407-9093-4ba9-e6db-f299df858b3e"
   },
   "outputs": [
    {
     "data": {
      "text/html": [
       "<div>\n",
       "<style scoped>\n",
       "    .dataframe tbody tr th:only-of-type {\n",
       "        vertical-align: middle;\n",
       "    }\n",
       "\n",
       "    .dataframe tbody tr th {\n",
       "        vertical-align: top;\n",
       "    }\n",
       "\n",
       "    .dataframe thead th {\n",
       "        text-align: right;\n",
       "    }\n",
       "</style>\n",
       "<table border=\"1\" class=\"dataframe\">\n",
       "  <thead>\n",
       "    <tr style=\"text-align: right;\">\n",
       "      <th></th>\n",
       "      <th>casual</th>\n",
       "      <th>registered</th>\n",
       "      <th>cnt</th>\n",
       "    </tr>\n",
       "    <tr>\n",
       "      <th>weekday</th>\n",
       "      <th></th>\n",
       "      <th></th>\n",
       "      <th></th>\n",
       "    </tr>\n",
       "  </thead>\n",
       "  <tbody>\n",
       "    <tr>\n",
       "      <th>5</th>\n",
       "      <td>78238</td>\n",
       "      <td>409552</td>\n",
       "      <td>487790</td>\n",
       "    </tr>\n",
       "    <tr>\n",
       "      <th>4</th>\n",
       "      <td>61460</td>\n",
       "      <td>423935</td>\n",
       "      <td>485395</td>\n",
       "    </tr>\n",
       "    <tr>\n",
       "      <th>6</th>\n",
       "      <td>153852</td>\n",
       "      <td>323955</td>\n",
       "      <td>477807</td>\n",
       "    </tr>\n",
       "    <tr>\n",
       "      <th>3</th>\n",
       "      <td>57319</td>\n",
       "      <td>415729</td>\n",
       "      <td>473048</td>\n",
       "    </tr>\n",
       "    <tr>\n",
       "      <th>2</th>\n",
       "      <td>57843</td>\n",
       "      <td>411266</td>\n",
       "      <td>469109</td>\n",
       "    </tr>\n",
       "    <tr>\n",
       "      <th>1</th>\n",
       "      <td>70784</td>\n",
       "      <td>384719</td>\n",
       "      <td>455503</td>\n",
       "    </tr>\n",
       "    <tr>\n",
       "      <th>0</th>\n",
       "      <td>140521</td>\n",
       "      <td>303506</td>\n",
       "      <td>444027</td>\n",
       "    </tr>\n",
       "  </tbody>\n",
       "</table>\n",
       "</div>"
      ],
      "text/plain": [
       "         casual  registered     cnt\n",
       "weekday                            \n",
       "5         78238      409552  487790\n",
       "4         61460      423935  485395\n",
       "6        153852      323955  477807\n",
       "3         57319      415729  473048\n",
       "2         57843      411266  469109\n",
       "1         70784      384719  455503\n",
       "0        140521      303506  444027"
      ]
     },
     "execution_count": 18,
     "metadata": {},
     "output_type": "execute_result"
    }
   ],
   "source": [
    "# menghitung jumlah penyewaan sepeda berdasarkan hari kerja\n",
    "df_bikeday.groupby(\"weekday\")[[\"casual\",\"registered\",\"cnt\"]].sum().sort_values(by=\"cnt\", ascending=False)"
   ]
  },
  {
   "cell_type": "code",
   "execution_count": 19,
   "metadata": {
    "colab": {
     "base_uri": "https://localhost:8080/",
     "height": 833
    },
    "executionInfo": {
     "elapsed": 22,
     "status": "ok",
     "timestamp": 1730574985946,
     "user": {
      "displayName": "Ahmad Taufiq Gultom",
      "userId": "10302629685787931894"
     },
     "user_tz": -420
    },
    "id": "pkLSpurF6C3O",
    "outputId": "36f8229c-340e-4cdf-aa9a-14876ab9d815"
   },
   "outputs": [
    {
     "data": {
      "text/html": [
       "<div>\n",
       "<style scoped>\n",
       "    .dataframe tbody tr th:only-of-type {\n",
       "        vertical-align: middle;\n",
       "    }\n",
       "\n",
       "    .dataframe tbody tr th {\n",
       "        vertical-align: top;\n",
       "    }\n",
       "\n",
       "    .dataframe thead th {\n",
       "        text-align: right;\n",
       "    }\n",
       "</style>\n",
       "<table border=\"1\" class=\"dataframe\">\n",
       "  <thead>\n",
       "    <tr style=\"text-align: right;\">\n",
       "      <th></th>\n",
       "      <th>casual</th>\n",
       "      <th>registered</th>\n",
       "      <th>cnt</th>\n",
       "    </tr>\n",
       "    <tr>\n",
       "      <th>hr</th>\n",
       "      <th></th>\n",
       "      <th></th>\n",
       "      <th></th>\n",
       "    </tr>\n",
       "  </thead>\n",
       "  <tbody>\n",
       "    <tr>\n",
       "      <th>17</th>\n",
       "      <td>54220</td>\n",
       "      <td>282640</td>\n",
       "      <td>336860</td>\n",
       "    </tr>\n",
       "    <tr>\n",
       "      <th>18</th>\n",
       "      <td>44496</td>\n",
       "      <td>265276</td>\n",
       "      <td>309772</td>\n",
       "    </tr>\n",
       "    <tr>\n",
       "      <th>8</th>\n",
       "      <td>15761</td>\n",
       "      <td>245240</td>\n",
       "      <td>261001</td>\n",
       "    </tr>\n",
       "    <tr>\n",
       "      <th>16</th>\n",
       "      <td>53834</td>\n",
       "      <td>173914</td>\n",
       "      <td>227748</td>\n",
       "    </tr>\n",
       "    <tr>\n",
       "      <th>19</th>\n",
       "      <td>35505</td>\n",
       "      <td>191284</td>\n",
       "      <td>226789</td>\n",
       "    </tr>\n",
       "    <tr>\n",
       "      <th>13</th>\n",
       "      <td>52713</td>\n",
       "      <td>132206</td>\n",
       "      <td>184919</td>\n",
       "    </tr>\n",
       "    <tr>\n",
       "      <th>12</th>\n",
       "      <td>49718</td>\n",
       "      <td>134696</td>\n",
       "      <td>184414</td>\n",
       "    </tr>\n",
       "    <tr>\n",
       "      <th>15</th>\n",
       "      <td>54606</td>\n",
       "      <td>128543</td>\n",
       "      <td>183149</td>\n",
       "    </tr>\n",
       "    <tr>\n",
       "      <th>14</th>\n",
       "      <td>55089</td>\n",
       "      <td>120563</td>\n",
       "      <td>175652</td>\n",
       "    </tr>\n",
       "    <tr>\n",
       "      <th>20</th>\n",
       "      <td>26378</td>\n",
       "      <td>138172</td>\n",
       "      <td>164550</td>\n",
       "    </tr>\n",
       "    <tr>\n",
       "      <th>9</th>\n",
       "      <td>22458</td>\n",
       "      <td>136980</td>\n",
       "      <td>159438</td>\n",
       "    </tr>\n",
       "    <tr>\n",
       "      <th>7</th>\n",
       "      <td>8037</td>\n",
       "      <td>146134</td>\n",
       "      <td>154171</td>\n",
       "    </tr>\n",
       "    <tr>\n",
       "      <th>11</th>\n",
       "      <td>43286</td>\n",
       "      <td>108034</td>\n",
       "      <td>151320</td>\n",
       "    </tr>\n",
       "    <tr>\n",
       "      <th>10</th>\n",
       "      <td>33789</td>\n",
       "      <td>92468</td>\n",
       "      <td>126257</td>\n",
       "    </tr>\n",
       "    <tr>\n",
       "      <th>21</th>\n",
       "      <td>20570</td>\n",
       "      <td>104875</td>\n",
       "      <td>125445</td>\n",
       "    </tr>\n",
       "    <tr>\n",
       "      <th>22</th>\n",
       "      <td>16200</td>\n",
       "      <td>79412</td>\n",
       "      <td>95612</td>\n",
       "    </tr>\n",
       "    <tr>\n",
       "      <th>23</th>\n",
       "      <td>11065</td>\n",
       "      <td>52876</td>\n",
       "      <td>63941</td>\n",
       "    </tr>\n",
       "    <tr>\n",
       "      <th>6</th>\n",
       "      <td>3017</td>\n",
       "      <td>52115</td>\n",
       "      <td>55132</td>\n",
       "    </tr>\n",
       "    <tr>\n",
       "      <th>0</th>\n",
       "      <td>7375</td>\n",
       "      <td>31755</td>\n",
       "      <td>39130</td>\n",
       "    </tr>\n",
       "    <tr>\n",
       "      <th>1</th>\n",
       "      <td>4709</td>\n",
       "      <td>19455</td>\n",
       "      <td>24164</td>\n",
       "    </tr>\n",
       "    <tr>\n",
       "      <th>2</th>\n",
       "      <td>3412</td>\n",
       "      <td>12940</td>\n",
       "      <td>16352</td>\n",
       "    </tr>\n",
       "    <tr>\n",
       "      <th>5</th>\n",
       "      <td>1012</td>\n",
       "      <td>13249</td>\n",
       "      <td>14261</td>\n",
       "    </tr>\n",
       "    <tr>\n",
       "      <th>3</th>\n",
       "      <td>1893</td>\n",
       "      <td>6281</td>\n",
       "      <td>8174</td>\n",
       "    </tr>\n",
       "    <tr>\n",
       "      <th>4</th>\n",
       "      <td>874</td>\n",
       "      <td>3554</td>\n",
       "      <td>4428</td>\n",
       "    </tr>\n",
       "  </tbody>\n",
       "</table>\n",
       "</div>"
      ],
      "text/plain": [
       "    casual  registered     cnt\n",
       "hr                            \n",
       "17   54220      282640  336860\n",
       "18   44496      265276  309772\n",
       "8    15761      245240  261001\n",
       "16   53834      173914  227748\n",
       "19   35505      191284  226789\n",
       "13   52713      132206  184919\n",
       "12   49718      134696  184414\n",
       "15   54606      128543  183149\n",
       "14   55089      120563  175652\n",
       "20   26378      138172  164550\n",
       "9    22458      136980  159438\n",
       "7     8037      146134  154171\n",
       "11   43286      108034  151320\n",
       "10   33789       92468  126257\n",
       "21   20570      104875  125445\n",
       "22   16200       79412   95612\n",
       "23   11065       52876   63941\n",
       "6     3017       52115   55132\n",
       "0     7375       31755   39130\n",
       "1     4709       19455   24164\n",
       "2     3412       12940   16352\n",
       "5     1012       13249   14261\n",
       "3     1893        6281    8174\n",
       "4      874        3554    4428"
      ]
     },
     "execution_count": 19,
     "metadata": {},
     "output_type": "execute_result"
    }
   ],
   "source": [
    "# menghitung jumlah penyewaan sepeda berdasarkan jam\n",
    "df_bikehour.groupby('hr')[[\"casual\", \"registered\", \"cnt\"]].sum().sort_values(by=\"cnt\", ascending=False)"
   ]
  },
  {
   "cell_type": "code",
   "execution_count": 20,
   "metadata": {
    "colab": {
     "base_uri": "https://localhost:8080/",
     "height": 457
    },
    "executionInfo": {
     "elapsed": 21,
     "status": "ok",
     "timestamp": 1730574985946,
     "user": {
      "displayName": "Ahmad Taufiq Gultom",
      "userId": "10302629685787931894"
     },
     "user_tz": -420
    },
    "id": "88Aegorsprqn",
    "outputId": "5e5701a5-bc8b-4ffd-c6e7-e20ba39ae564"
   },
   "outputs": [
    {
     "data": {
      "text/html": [
       "<div>\n",
       "<style scoped>\n",
       "    .dataframe tbody tr th:only-of-type {\n",
       "        vertical-align: middle;\n",
       "    }\n",
       "\n",
       "    .dataframe tbody tr th {\n",
       "        vertical-align: top;\n",
       "    }\n",
       "\n",
       "    .dataframe thead th {\n",
       "        text-align: right;\n",
       "    }\n",
       "</style>\n",
       "<table border=\"1\" class=\"dataframe\">\n",
       "  <thead>\n",
       "    <tr style=\"text-align: right;\">\n",
       "      <th></th>\n",
       "      <th>casual</th>\n",
       "      <th>registered</th>\n",
       "      <th>cnt</th>\n",
       "    </tr>\n",
       "    <tr>\n",
       "      <th>dteday</th>\n",
       "      <th></th>\n",
       "      <th></th>\n",
       "      <th></th>\n",
       "    </tr>\n",
       "  </thead>\n",
       "  <tbody>\n",
       "    <tr>\n",
       "      <th>2011-06-30</th>\n",
       "      <td>30612</td>\n",
       "      <td>112900</td>\n",
       "      <td>143512</td>\n",
       "    </tr>\n",
       "    <tr>\n",
       "      <th>2011-07-31</th>\n",
       "      <td>36452</td>\n",
       "      <td>104889</td>\n",
       "      <td>141341</td>\n",
       "    </tr>\n",
       "    <tr>\n",
       "      <th>2011-08-31</th>\n",
       "      <td>28842</td>\n",
       "      <td>107849</td>\n",
       "      <td>136691</td>\n",
       "    </tr>\n",
       "    <tr>\n",
       "      <th>2011-05-31</th>\n",
       "      <td>31050</td>\n",
       "      <td>104771</td>\n",
       "      <td>135821</td>\n",
       "    </tr>\n",
       "    <tr>\n",
       "      <th>2011-09-30</th>\n",
       "      <td>26545</td>\n",
       "      <td>100873</td>\n",
       "      <td>127418</td>\n",
       "    </tr>\n",
       "    <tr>\n",
       "      <th>2011-10-31</th>\n",
       "      <td>25222</td>\n",
       "      <td>98289</td>\n",
       "      <td>123511</td>\n",
       "    </tr>\n",
       "    <tr>\n",
       "      <th>2011-11-30</th>\n",
       "      <td>15594</td>\n",
       "      <td>86573</td>\n",
       "      <td>102167</td>\n",
       "    </tr>\n",
       "    <tr>\n",
       "      <th>2011-04-30</th>\n",
       "      <td>22346</td>\n",
       "      <td>72524</td>\n",
       "      <td>94870</td>\n",
       "    </tr>\n",
       "    <tr>\n",
       "      <th>2011-12-31</th>\n",
       "      <td>8448</td>\n",
       "      <td>78875</td>\n",
       "      <td>87323</td>\n",
       "    </tr>\n",
       "    <tr>\n",
       "      <th>2011-03-31</th>\n",
       "      <td>12826</td>\n",
       "      <td>51219</td>\n",
       "      <td>64045</td>\n",
       "    </tr>\n",
       "    <tr>\n",
       "      <th>2011-02-28</th>\n",
       "      <td>6242</td>\n",
       "      <td>41973</td>\n",
       "      <td>48215</td>\n",
       "    </tr>\n",
       "    <tr>\n",
       "      <th>2011-01-31</th>\n",
       "      <td>3073</td>\n",
       "      <td>35116</td>\n",
       "      <td>38189</td>\n",
       "    </tr>\n",
       "  </tbody>\n",
       "</table>\n",
       "</div>"
      ],
      "text/plain": [
       "            casual  registered     cnt\n",
       "dteday                                \n",
       "2011-06-30   30612      112900  143512\n",
       "2011-07-31   36452      104889  141341\n",
       "2011-08-31   28842      107849  136691\n",
       "2011-05-31   31050      104771  135821\n",
       "2011-09-30   26545      100873  127418\n",
       "2011-10-31   25222       98289  123511\n",
       "2011-11-30   15594       86573  102167\n",
       "2011-04-30   22346       72524   94870\n",
       "2011-12-31    8448       78875   87323\n",
       "2011-03-31   12826       51219   64045\n",
       "2011-02-28    6242       41973   48215\n",
       "2011-01-31    3073       35116   38189"
      ]
     },
     "execution_count": 20,
     "metadata": {},
     "output_type": "execute_result"
    }
   ],
   "source": [
    "# menghitung jumlah penyewaan sepeda per bulan\n",
    "# resample() => mengelompokkan data berdasarkan frekuensi waktu tertentu (dalam hal ini, bulanan) pada kolom tanggal dteday, kemudian menghitung jumlah (sum) untuk setiap kelompok waktu tersebut.\n",
    "monthly_data = df_bikeday.resample(\"ME\", on='dteday').sum()\n",
    "\n",
    "## menampilkan hanya tahun 2011 saja\n",
    "monthly_data_2011 = monthly_data[monthly_data.index.year == 2011]\n",
    "monthly_data_2011[[\"casual\", \"registered\", \"cnt\"]].sort_values(by=\"cnt\", ascending=False)"
   ]
  },
  {
   "cell_type": "code",
   "execution_count": 21,
   "metadata": {
    "colab": {
     "base_uri": "https://localhost:8080/",
     "height": 457
    },
    "executionInfo": {
     "elapsed": 20,
     "status": "ok",
     "timestamp": 1730574985946,
     "user": {
      "displayName": "Ahmad Taufiq Gultom",
      "userId": "10302629685787931894"
     },
     "user_tz": -420
    },
    "id": "v79Sy-J8sdmX",
    "outputId": "3b423ac6-01b8-400d-9ec2-f5d051a846a6"
   },
   "outputs": [
    {
     "data": {
      "text/html": [
       "<div>\n",
       "<style scoped>\n",
       "    .dataframe tbody tr th:only-of-type {\n",
       "        vertical-align: middle;\n",
       "    }\n",
       "\n",
       "    .dataframe tbody tr th {\n",
       "        vertical-align: top;\n",
       "    }\n",
       "\n",
       "    .dataframe thead th {\n",
       "        text-align: right;\n",
       "    }\n",
       "</style>\n",
       "<table border=\"1\" class=\"dataframe\">\n",
       "  <thead>\n",
       "    <tr style=\"text-align: right;\">\n",
       "      <th></th>\n",
       "      <th>casual</th>\n",
       "      <th>registered</th>\n",
       "      <th>cnt</th>\n",
       "    </tr>\n",
       "    <tr>\n",
       "      <th>dteday</th>\n",
       "      <th></th>\n",
       "      <th></th>\n",
       "      <th></th>\n",
       "    </tr>\n",
       "  </thead>\n",
       "  <tbody>\n",
       "    <tr>\n",
       "      <th>2012-09-30</th>\n",
       "      <td>43778</td>\n",
       "      <td>174795</td>\n",
       "      <td>218573</td>\n",
       "    </tr>\n",
       "    <tr>\n",
       "      <th>2012-08-31</th>\n",
       "      <td>43197</td>\n",
       "      <td>171306</td>\n",
       "      <td>214503</td>\n",
       "    </tr>\n",
       "    <tr>\n",
       "      <th>2012-07-31</th>\n",
       "      <td>41705</td>\n",
       "      <td>161902</td>\n",
       "      <td>203607</td>\n",
       "    </tr>\n",
       "    <tr>\n",
       "      <th>2012-06-30</th>\n",
       "      <td>43294</td>\n",
       "      <td>159536</td>\n",
       "      <td>202830</td>\n",
       "    </tr>\n",
       "    <tr>\n",
       "      <th>2012-10-31</th>\n",
       "      <td>34538</td>\n",
       "      <td>164303</td>\n",
       "      <td>198841</td>\n",
       "    </tr>\n",
       "    <tr>\n",
       "      <th>2012-05-31</th>\n",
       "      <td>44235</td>\n",
       "      <td>151630</td>\n",
       "      <td>195865</td>\n",
       "    </tr>\n",
       "    <tr>\n",
       "      <th>2012-04-30</th>\n",
       "      <td>38456</td>\n",
       "      <td>135768</td>\n",
       "      <td>174224</td>\n",
       "    </tr>\n",
       "    <tr>\n",
       "      <th>2012-03-31</th>\n",
       "      <td>31618</td>\n",
       "      <td>133257</td>\n",
       "      <td>164875</td>\n",
       "    </tr>\n",
       "    <tr>\n",
       "      <th>2012-11-30</th>\n",
       "      <td>21009</td>\n",
       "      <td>131655</td>\n",
       "      <td>152664</td>\n",
       "    </tr>\n",
       "    <tr>\n",
       "      <th>2012-12-31</th>\n",
       "      <td>13245</td>\n",
       "      <td>110468</td>\n",
       "      <td>123713</td>\n",
       "    </tr>\n",
       "    <tr>\n",
       "      <th>2012-02-29</th>\n",
       "      <td>8721</td>\n",
       "      <td>94416</td>\n",
       "      <td>103137</td>\n",
       "    </tr>\n",
       "    <tr>\n",
       "      <th>2012-01-31</th>\n",
       "      <td>8969</td>\n",
       "      <td>87775</td>\n",
       "      <td>96744</td>\n",
       "    </tr>\n",
       "  </tbody>\n",
       "</table>\n",
       "</div>"
      ],
      "text/plain": [
       "            casual  registered     cnt\n",
       "dteday                                \n",
       "2012-09-30   43778      174795  218573\n",
       "2012-08-31   43197      171306  214503\n",
       "2012-07-31   41705      161902  203607\n",
       "2012-06-30   43294      159536  202830\n",
       "2012-10-31   34538      164303  198841\n",
       "2012-05-31   44235      151630  195865\n",
       "2012-04-30   38456      135768  174224\n",
       "2012-03-31   31618      133257  164875\n",
       "2012-11-30   21009      131655  152664\n",
       "2012-12-31   13245      110468  123713\n",
       "2012-02-29    8721       94416  103137\n",
       "2012-01-31    8969       87775   96744"
      ]
     },
     "execution_count": 21,
     "metadata": {},
     "output_type": "execute_result"
    }
   ],
   "source": [
    "## menampilkan hanya tahun 2012 saja\n",
    "monthly_data_2012 = monthly_data[monthly_data.index.year == 2012]\n",
    "monthly_data_2012[[\"casual\", \"registered\", \"cnt\"]].sort_values(by=\"cnt\", ascending=False)"
   ]
  },
  {
   "cell_type": "code",
   "execution_count": 22,
   "metadata": {
    "colab": {
     "base_uri": "https://localhost:8080/",
     "height": 426
    },
    "executionInfo": {
     "elapsed": 20,
     "status": "ok",
     "timestamp": 1730574985947,
     "user": {
      "displayName": "Ahmad Taufiq Gultom",
      "userId": "10302629685787931894"
     },
     "user_tz": -420
    },
    "id": "4BqpqG7Htdbk",
    "outputId": "20f3343a-2e40-4443-f155-d9044bb830a5"
   },
   "outputs": [
    {
     "data": {
      "text/html": [
       "<div>\n",
       "<style scoped>\n",
       "    .dataframe tbody tr th:only-of-type {\n",
       "        vertical-align: middle;\n",
       "    }\n",
       "\n",
       "    .dataframe tbody tr th {\n",
       "        vertical-align: top;\n",
       "    }\n",
       "\n",
       "    .dataframe thead th {\n",
       "        text-align: right;\n",
       "    }\n",
       "</style>\n",
       "<table border=\"1\" class=\"dataframe\">\n",
       "  <thead>\n",
       "    <tr style=\"text-align: right;\">\n",
       "      <th>year</th>\n",
       "      <th>2011</th>\n",
       "      <th>2012</th>\n",
       "    </tr>\n",
       "  </thead>\n",
       "  <tbody>\n",
       "    <tr>\n",
       "      <th>January</th>\n",
       "      <td>38189</td>\n",
       "      <td>96744</td>\n",
       "    </tr>\n",
       "    <tr>\n",
       "      <th>February</th>\n",
       "      <td>48215</td>\n",
       "      <td>103137</td>\n",
       "    </tr>\n",
       "    <tr>\n",
       "      <th>March</th>\n",
       "      <td>64045</td>\n",
       "      <td>164875</td>\n",
       "    </tr>\n",
       "    <tr>\n",
       "      <th>April</th>\n",
       "      <td>94870</td>\n",
       "      <td>174224</td>\n",
       "    </tr>\n",
       "    <tr>\n",
       "      <th>May</th>\n",
       "      <td>135821</td>\n",
       "      <td>195865</td>\n",
       "    </tr>\n",
       "    <tr>\n",
       "      <th>June</th>\n",
       "      <td>143512</td>\n",
       "      <td>202830</td>\n",
       "    </tr>\n",
       "    <tr>\n",
       "      <th>July</th>\n",
       "      <td>141341</td>\n",
       "      <td>203607</td>\n",
       "    </tr>\n",
       "    <tr>\n",
       "      <th>August</th>\n",
       "      <td>136691</td>\n",
       "      <td>214503</td>\n",
       "    </tr>\n",
       "    <tr>\n",
       "      <th>September</th>\n",
       "      <td>127418</td>\n",
       "      <td>218573</td>\n",
       "    </tr>\n",
       "    <tr>\n",
       "      <th>October</th>\n",
       "      <td>123511</td>\n",
       "      <td>198841</td>\n",
       "    </tr>\n",
       "    <tr>\n",
       "      <th>November</th>\n",
       "      <td>102167</td>\n",
       "      <td>152664</td>\n",
       "    </tr>\n",
       "    <tr>\n",
       "      <th>December</th>\n",
       "      <td>87323</td>\n",
       "      <td>123713</td>\n",
       "    </tr>\n",
       "  </tbody>\n",
       "</table>\n",
       "</div>"
      ],
      "text/plain": [
       "year         2011    2012\n",
       "January     38189   96744\n",
       "February    48215  103137\n",
       "March       64045  164875\n",
       "April       94870  174224\n",
       "May        135821  195865\n",
       "June       143512  202830\n",
       "July       141341  203607\n",
       "August     136691  214503\n",
       "September  127418  218573\n",
       "October    123511  198841\n",
       "November   102167  152664\n",
       "December    87323  123713"
      ]
     },
     "execution_count": 22,
     "metadata": {},
     "output_type": "execute_result"
    }
   ],
   "source": [
    "# menghitung perbandingan jumlah penyewaan sepeda m-to-m\n",
    "\n",
    "# Menambahkan kolom 'year' dan 'month' untuk mempermudah perbandingan\n",
    "monthly_data['year'] = monthly_data.index.year\n",
    "monthly_data['month'] = monthly_data.index.month\n",
    "\n",
    "# Pivot table untuk mempermudah visualisasi month-to-month comparison\n",
    "pivot_data = monthly_data.pivot(index='month', columns='year', values='cnt')\n",
    "\n",
    "# Mengubah indeks bulan menjadi nama bulan\n",
    "pivot_data.index = [calendar.month_name[month] for month in pivot_data.index]\n",
    "pivot_data"
   ]
  },
  {
   "cell_type": "code",
   "execution_count": 23,
   "metadata": {
    "colab": {
     "base_uri": "https://localhost:8080/",
     "height": 143
    },
    "executionInfo": {
     "elapsed": 19,
     "status": "ok",
     "timestamp": 1730574985947,
     "user": {
      "displayName": "Ahmad Taufiq Gultom",
      "userId": "10302629685787931894"
     },
     "user_tz": -420
    },
    "id": "1b1k3PH88Ee-",
    "outputId": "c9983fc1-d635-4913-fe32-c0924d253d92"
   },
   "outputs": [
    {
     "data": {
      "text/html": [
       "<div>\n",
       "<style scoped>\n",
       "    .dataframe tbody tr th:only-of-type {\n",
       "        vertical-align: middle;\n",
       "    }\n",
       "\n",
       "    .dataframe tbody tr th {\n",
       "        vertical-align: top;\n",
       "    }\n",
       "\n",
       "    .dataframe thead th {\n",
       "        text-align: right;\n",
       "    }\n",
       "</style>\n",
       "<table border=\"1\" class=\"dataframe\">\n",
       "  <thead>\n",
       "    <tr style=\"text-align: right;\">\n",
       "      <th></th>\n",
       "      <th>Jenis Hari</th>\n",
       "      <th>Jumlah Penyewaan</th>\n",
       "    </tr>\n",
       "  </thead>\n",
       "  <tbody>\n",
       "    <tr>\n",
       "      <th>0</th>\n",
       "      <td>Hari Libur</td>\n",
       "      <td>78435</td>\n",
       "    </tr>\n",
       "    <tr>\n",
       "      <th>1</th>\n",
       "      <td>Hari Kerja</td>\n",
       "      <td>2292410</td>\n",
       "    </tr>\n",
       "    <tr>\n",
       "      <th>2</th>\n",
       "      <td>Akhir Pekan</td>\n",
       "      <td>921834</td>\n",
       "    </tr>\n",
       "  </tbody>\n",
       "</table>\n",
       "</div>"
      ],
      "text/plain": [
       "    Jenis Hari  Jumlah Penyewaan\n",
       "0   Hari Libur             78435\n",
       "1   Hari Kerja           2292410\n",
       "2  Akhir Pekan            921834"
      ]
     },
     "execution_count": 23,
     "metadata": {},
     "output_type": "execute_result"
    }
   ],
   "source": [
    "# Menghitung jumlah penyewaan sepeda berdasarkan jenis hari\n",
    "rental_holiday = df_bikeday[df_bikeday['holiday'] == 1]['cnt'].sum()\n",
    "rental_workingday = df_bikeday[df_bikeday['workingday'] == 1]['cnt'].sum()\n",
    "rental_weekend = df_bikeday[(df_bikeday['workingday'] == 0) & (df_bikeday['holiday'] == 0)]['cnt'].sum()\n",
    "\n",
    "# Membuat DataFrame untuk visualisasi\n",
    "day_type_data = pd.DataFrame({\n",
    "    'Jenis Hari': ['Hari Libur', 'Hari Kerja', 'Akhir Pekan'],\n",
    "    'Jumlah Penyewaan': [rental_holiday, rental_workingday, rental_weekend]\n",
    "})\n",
    "\n",
    "day_type_data"
   ]
  },
  {
   "cell_type": "code",
   "execution_count": 24,
   "metadata": {
    "colab": {
     "base_uri": "https://localhost:8080/",
     "height": 143
    },
    "executionInfo": {
     "elapsed": 402,
     "status": "ok",
     "timestamp": 1730574986331,
     "user": {
      "displayName": "Ahmad Taufiq Gultom",
      "userId": "10302629685787931894"
     },
     "user_tz": -420
    },
    "id": "8n0m9abjD0Pi",
    "outputId": "6d81dd77-a8d3-436d-b479-b536ba7872b3"
   },
   "outputs": [
    {
     "data": {
      "text/html": [
       "<div>\n",
       "<style scoped>\n",
       "    .dataframe tbody tr th:only-of-type {\n",
       "        vertical-align: middle;\n",
       "    }\n",
       "\n",
       "    .dataframe tbody tr th {\n",
       "        vertical-align: top;\n",
       "    }\n",
       "\n",
       "    .dataframe thead th {\n",
       "        text-align: right;\n",
       "    }\n",
       "</style>\n",
       "<table border=\"1\" class=\"dataframe\">\n",
       "  <thead>\n",
       "    <tr style=\"text-align: right;\">\n",
       "      <th></th>\n",
       "      <th>Jenis Hari</th>\n",
       "      <th>Casual</th>\n",
       "      <th>Registered</th>\n",
       "    </tr>\n",
       "  </thead>\n",
       "  <tbody>\n",
       "    <tr>\n",
       "      <th>0</th>\n",
       "      <td>Hari Libur</td>\n",
       "      <td>22359</td>\n",
       "      <td>56076</td>\n",
       "    </tr>\n",
       "    <tr>\n",
       "      <th>1</th>\n",
       "      <td>Hari Kerja</td>\n",
       "      <td>303285</td>\n",
       "      <td>1989125</td>\n",
       "    </tr>\n",
       "    <tr>\n",
       "      <th>2</th>\n",
       "      <td>Akhir Pekan</td>\n",
       "      <td>294373</td>\n",
       "      <td>627461</td>\n",
       "    </tr>\n",
       "  </tbody>\n",
       "</table>\n",
       "</div>"
      ],
      "text/plain": [
       "    Jenis Hari  Casual  Registered\n",
       "0   Hari Libur   22359       56076\n",
       "1   Hari Kerja  303285     1989125\n",
       "2  Akhir Pekan  294373      627461"
      ]
     },
     "execution_count": 24,
     "metadata": {},
     "output_type": "execute_result"
    }
   ],
   "source": [
    "# Menghitung total penyewaan sepeda untuk pengguna kasual dan terdaftar berdasarkan kategori hari\n",
    "rental_holiday = df_bikeday[df_bikeday['holiday'] == 1][['casual', 'registered']].sum()\n",
    "rental_workingday = df_bikeday[df_bikeday['workingday'] == 1][['casual', 'registered']].sum()\n",
    "rental_weekend = df_bikeday[(df_bikeday['workingday'] == 0) & (df_bikeday['holiday'] == 0)][['casual', 'registered']].sum()\n",
    "\n",
    "# Membuat DataFrame untuk perbandingan data\n",
    "usage_data = pd.DataFrame({\n",
    "    'Jenis Hari': ['Hari Libur', 'Hari Kerja', 'Akhir Pekan'],\n",
    "    'Casual': [rental_holiday['casual'], rental_workingday['casual'], rental_weekend['casual']],\n",
    "    'Registered': [rental_holiday['registered'], rental_workingday['registered'], rental_weekend['registered']]\n",
    "})\n",
    "\n",
    "usage_data"
   ]
  },
  {
   "cell_type": "markdown",
   "metadata": {
    "id": "th_Lzl2Fkj9O"
   },
   "source": [
    "**Insight:**\n",
    "Berdasarkan data di atas, dapat disimpulkan bahwa :\n",
    "- Penyewaan sepeda paling banyak terjadi di musim gugur (fall)\n",
    "- Penyewaan sepeda paling banyak pada hari Jumat (weekday = 5)\n",
    "- Penyewaan sepeda terbanyak ada di pukul 17.00\n",
    "- Penyewaan sepeda terbanyak pada cuaca cerah\n",
    "- Penyewaan sepeda lebih banyak hari kerja dibanding hari libur atau akhir pekan\n",
    "- Pengguna terdaftar lebih sering menyewa sepeda dibandingkan pengguna casual\n",
    "- Terjadi peningkatan jumlah penyewaan sepeda pada tahun 2012 dibandingkan tahun 2011"
   ]
  },
  {
   "cell_type": "markdown",
   "metadata": {
    "id": "zsyZjqak8DC2"
   },
   "source": [
    "## Visualization & Explanatory Analysis"
   ]
  },
  {
   "cell_type": "markdown",
   "metadata": {
    "id": "HZxOiQ6n8DC2"
   },
   "source": [
    "### 1. Bagaimana pengaruh cuaca terhadap jumlah penyewaan sepeda?"
   ]
  },
  {
   "cell_type": "code",
   "execution_count": 25,
   "metadata": {
    "colab": {
     "base_uri": "https://localhost:8080/",
     "height": 565
    },
    "executionInfo": {
     "elapsed": 433,
     "status": "ok",
     "timestamp": 1730574986762,
     "user": {
      "displayName": "Ahmad Taufiq Gultom",
      "userId": "10302629685787931894"
     },
     "user_tz": -420
    },
    "id": "1swJUdAD8DC2",
    "outputId": "6d44ff21-883c-4fab-dd95-d785682c3069"
   },
   "outputs": [
    {
     "data": {
      "image/png": "[encoded data removed]",
      "text/plain": [
       "<Figure size 1000x600 with 1 Axes>"
      ]
     },
     "metadata": {},
     "output_type": "display_data"
    }
   ],
   "source": [
    "## membuat plot boxplot untuk melihat distribusi jumlah penyewaan sepeda berdasarkan kondisi cuaca\n",
    "plt.figure(figsize=(10,6))\n",
    "sns.boxplot(x='weathersit', y='cnt', data=df_bikeday)\n",
    "\n",
    "# menambah label\n",
    "plt.title(\"Distribusi Pengaruh Cuaca terhadap Penyewaan Sepeda\", fontsize=14)\n",
    "plt.xlabel(\"1: Cerah, 2: Berkabut, 3: Hujan Ringan, 4: Hujan Badai\", fontsize=10)\n",
    "plt.ylabel(\"Jumlah Penyewaan Sepeda\", fontsize=10)\n",
    "\n",
    "plt.show()"
   ]
  },
  {
   "cell_type": "code",
   "execution_count": 26,
   "metadata": {
    "colab": {
     "base_uri": "https://localhost:8080/",
     "height": 564
    },
    "executionInfo": {
     "elapsed": 425,
     "status": "ok",
     "timestamp": 1730574987184,
     "user": {
      "displayName": "Ahmad Taufiq Gultom",
      "userId": "10302629685787931894"
     },
     "user_tz": -420
    },
    "id": "iMCdTBPwJZBJ",
    "outputId": "83a5b7e2-7f95-4381-da19-9805549b426b"
   },
   "outputs": [
    {
     "data": {
      "image/png": "[encoded data removed]",
      "text/plain": [
       "<Figure size 1000x600 with 1 Axes>"
      ]
     },
     "metadata": {},
     "output_type": "display_data"
    }
   ],
   "source": [
    "plt.figure(figsize=(10, 6))\n",
    "\n",
    "# membuat barplot berdasarkan jumlah penyewaan sepeda berdasarkan kondisi cuaca\n",
    "sns.barplot(x='weathersit', y='cnt', data=df_bikeday)\n",
    "\n",
    "# menambah label\n",
    "plt.title(\"Pengaruh Cuaca terhadap Penyewaan Sepeda\")\n",
    "plt.xlabel(\"1: Cerah, 2: Berkabut, 3: Hujan Ringan, 4: Hujan Badai\", fontsize=10)\n",
    "plt.ylabel(\"Jumlah Penyewaan Sepeda\", fontsize=10)\n",
    "\n",
    "plt.show()"
   ]
  },
  {
   "cell_type": "code",
   "execution_count": 27,
   "metadata": {
    "colab": {
     "base_uri": "https://localhost:8080/"
    },
    "executionInfo": {
     "elapsed": 5,
     "status": "ok",
     "timestamp": 1730574987184,
     "user": {
      "displayName": "Ahmad Taufiq Gultom",
      "userId": "10302629685787931894"
     },
     "user_tz": -420
    },
    "id": "bQ31dl-eDyuL",
    "outputId": "069bc295-c11d-497a-8876-0c70b3954c4a"
   },
   "outputs": [
    {
     "name": "stdout",
     "output_type": "stream",
     "text": [
      "Jumlah penyewaan sepeda pada cuaca Hujan Badai :  0\n"
     ]
    }
   ],
   "source": [
    "print(\"Jumlah penyewaan sepeda pada cuaca Hujan Badai : \", (df_bikeday['weathersit'] == 4).sum())"
   ]
  },
  {
   "cell_type": "markdown",
   "metadata": {
    "id": "_WkoeI9EIxRh"
   },
   "source": [
    "**Insight:**\n",
    "- Jumlah penyewaan sepeda terbanyak ada di cuaca cerah\n",
    "- Jumlah penyewaan sepeda paling sedikit ada di cuaca hujan ringan\n",
    "- Tidak ada penyewaan sepeda pada cuaca hujan badai"
   ]
  },
  {
   "cell_type": "markdown",
   "metadata": {
    "id": "DgHI7CiU8DC2"
   },
   "source": [
    "### Bagaimana pengaruh hari libur, hari kerja dan akhir pekan terhadap penyewaan sepeda?"
   ]
  },
  {
   "cell_type": "code",
   "execution_count": 28,
   "metadata": {
    "colab": {
     "base_uri": "https://localhost:8080/",
     "height": 570
    },
    "executionInfo": {
     "elapsed": 611,
     "status": "ok",
     "timestamp": 1730574987792,
     "user": {
      "displayName": "Ahmad Taufiq Gultom",
      "userId": "10302629685787931894"
     },
     "user_tz": -420
    },
    "id": "Go0lCsvO8DC2",
    "outputId": "46473dbc-3521-4fcd-986b-b7c5e24b7ec2"
   },
   "outputs": [
    {
     "data": {
      "image/png": "[encoded data removed]",
      "text/plain": [
       "<Figure size 800x600 with 1 Axes>"
      ]
     },
     "metadata": {},
     "output_type": "display_data"
    }
   ],
   "source": [
    "# Menghitung jumlah penyewaan sepeda berdasarkan jenis hari\n",
    "rental_holiday = df_bikeday[df_bikeday['holiday'] == 1]['cnt'].sum()\n",
    "rental_workingday = df_bikeday[df_bikeday['workingday'] == 1]['cnt'].sum()\n",
    "rental_weekend = df_bikeday[(df_bikeday['workingday'] == 0) & (df_bikeday['holiday'] == 0)]['cnt'].sum()\n",
    "\n",
    "# Membuat DataFrame untuk visualisasi\n",
    "day_type_data = pd.DataFrame({\n",
    "    'Jenis Hari': ['Hari Libur', 'Hari Kerja', 'Akhir Pekan'],\n",
    "    'Jumlah Penyewaan': [rental_holiday, rental_workingday, rental_weekend]\n",
    "})\n",
    "\n",
    "# Visualisasi data menggunakan bar plot\n",
    "plt.figure(figsize=(8, 6))\n",
    "sns.barplot(data=day_type_data, x='Jenis Hari', y='Jumlah Penyewaan', hue='Jenis Hari', dodge=False, legend=False)\n",
    "\n",
    "# Menambahkan judul dan label\n",
    "plt.title('Pengaruh Jenis Hari terhadap Penyewaan Sepeda', fontsize=16)\n",
    "plt.xlabel('Jenis Hari', fontsize=12)\n",
    "plt.ylabel('Jumlah Penyewaan Sepeda', fontsize=12)\n",
    "plt.show()"
   ]
  },
  {
   "cell_type": "markdown",
   "metadata": {
    "id": "_0-36BDLklRg"
   },
   "source": [
    "**Insight:**\n",
    "- Jumlah penyewaan sepeda paling banyak pada hari kerja\n",
    "- Jumlah penyewaan sepeda paling sedikit pada hari libur"
   ]
  },
  {
   "cell_type": "markdown",
   "metadata": {
    "id": "EkerFIQ7K7x-"
   },
   "source": [
    "### 3. Bagaimana tren jumlah penyewaan sepeda dari waktu ke waktu, y-on-y, m-to-m. Bulan berapa penyewaan sepeda tertinggi?"
   ]
  },
  {
   "cell_type": "code",
   "execution_count": 29,
   "metadata": {
    "colab": {
     "base_uri": "https://localhost:8080/",
     "height": 613
    },
    "executionInfo": {
     "elapsed": 419,
     "status": "ok",
     "timestamp": 1730574988207,
     "user": {
      "displayName": "Ahmad Taufiq Gultom",
      "userId": "10302629685787931894"
     },
     "user_tz": -420
    },
    "id": "afePcfM5LEMA",
    "outputId": "42580972-c982-491e-a3d8-c29f6f45a466"
   },
   "outputs": [
    {
     "data": {
      "image/png": "[encoded data removed]",
      "text/plain": [
       "<Figure size 1000x600 with 1 Axes>"
      ]
     },
     "metadata": {},
     "output_type": "display_data"
    }
   ],
   "source": [
    "# menghitung jumlah penyewaan sepeda per bulan\n",
    "monthly_data = df_bikeday.resample(\"ME\", on='dteday').sum()\n",
    "\n",
    "plt.figure(figsize=(10, 6))\n",
    "\n",
    "# membuat barplot berdasarkan data bulanan\n",
    "sns.barplot(x=monthly_data.index.strftime('%Y-%m'), y='cnt', data=monthly_data)\n",
    "\n",
    "plt.title(\"Jumlah Penyewaan Sepeda per Bulan\", fontsize=14)\n",
    "plt.xlabel(\"Bulan\", fontsize=12)\n",
    "plt.ylabel(\"Jumlah Penyewaan Sepeda\", fontsize=12)\n",
    "plt.xticks(rotation=90)\n",
    "plt.show()"
   ]
  },
  {
   "cell_type": "code",
   "execution_count": 30,
   "metadata": {
    "colab": {
     "base_uri": "https://localhost:8080/",
     "height": 570
    },
    "executionInfo": {
     "elapsed": 692,
     "status": "ok",
     "timestamp": 1730574988896,
     "user": {
      "displayName": "Ahmad Taufiq Gultom",
      "userId": "10302629685787931894"
     },
     "user_tz": -420
    },
    "id": "PfrXXbSlMrg2",
    "outputId": "b952b5af-b51b-47a9-a062-f76451909585"
   },
   "outputs": [
    {
     "data": {
      "image/png": "[encoded data removed]",
      "text/plain": [
       "<Figure size 1200x600 with 1 Axes>"
      ]
     },
     "metadata": {},
     "output_type": "display_data"
    }
   ],
   "source": [
    "import calendar\n",
    "\n",
    "# Menetapkan dteday sebagai indeks\n",
    "df_bikeday.set_index('dteday', inplace=True)\n",
    "\n",
    "# Resampling data menjadi total penyewaan per bulan\n",
    "monthly_data = df_bikeday.resample('ME').sum()\n",
    "\n",
    "# Menambahkan kolom 'year' dan 'month' untuk mempermudah perbandingan\n",
    "monthly_data['year'] = monthly_data.index.year\n",
    "monthly_data['month'] = monthly_data.index.month\n",
    "\n",
    "# Pivot table untuk mempermudah visualisasi month-to-month comparison\n",
    "pivot_data = monthly_data.pivot(index='month', columns='year', values='cnt')\n",
    "\n",
    "# Mengubah indeks bulan menjadi nama bulan\n",
    "pivot_data.index = [calendar.month_name[month] for month in pivot_data.index]\n",
    "\n",
    "# Membuat Figure\n",
    "fig, ax = plt.subplots(figsize=(12, 6))\n",
    "\n",
    "# Bar plot untuk setiap tahun\n",
    "pivot_data.plot(kind='bar', ax=ax, width=0.8, alpha=0.7, color=['#1f77b4', '#ff7f0e'])\n",
    "\n",
    "# Membuat line plot untuk perbandingan month-to-month\n",
    "for year in pivot_data.columns:\n",
    "    plt.plot(pivot_data.index, pivot_data[year], marker='o', label=f'Tahun {year}')\n",
    "\n",
    "# Menambahkan label dan judul\n",
    "plt.title(\"Perbandingan Jumlah Penyewaan Sepeda Month-to-Month (2011 vs 2012)\", fontsize=16)\n",
    "plt.xlabel(\"Bulan\", fontsize=12)\n",
    "plt.ylabel(\"Jumlah Penyewaan Sepeda\", fontsize=12)\n",
    "\n",
    "# Menampilkan legenda gabungan\n",
    "plt.legend(title=\"Tahun\", loc=\"upper left\")\n",
    "\n",
    "# Memutar label sumbu X agar tidak tumpang tindih\n",
    "plt.xticks(rotation=0)\n",
    "\n",
    "plt.show()"
   ]
  },
  {
   "cell_type": "markdown",
   "metadata": {
    "id": "9y4VUsmcYNZ5"
   },
   "source": [
    "## Analisis Lanjutan (Opsional)"
   ]
  },
  {
   "cell_type": "markdown",
   "metadata": {
    "id": "gdr7oo_v_5QM"
   },
   "source": [
    "### Tren penggunaan sepeda antara pengguna kasual dan terdaftar"
   ]
  },
  {
   "cell_type": "code",
   "execution_count": 31,
   "metadata": {
    "colab": {
     "base_uri": "https://localhost:8080/",
     "height": 607
    },
    "executionInfo": {
     "elapsed": 738,
     "status": "ok",
     "timestamp": 1730574989631,
     "user": {
      "displayName": "Ahmad Taufiq Gultom",
      "userId": "10302629685787931894"
     },
     "user_tz": -420
    },
    "id": "iWhnzsJGYUCO",
    "outputId": "8540f143-cf43-4390-cae8-42ea98e7baaf"
   },
   "outputs": [
    {
     "data": {
      "image/png": "[encoded data removed]",
      "text/plain": [
       "<Figure size 1200x600 with 1 Axes>"
      ]
     },
     "metadata": {},
     "output_type": "display_data"
    }
   ],
   "source": [
    "# Menghitung jumlah penyewaan sepeda bulanan untuk pengguna kasual dan terdaftar\n",
    "monthly_data = df_bikeday.resample('ME').sum()[['casual', 'registered']]\n",
    "\n",
    "# Visualisasi tren penggunaan sepeda bulanan untuk pengguna kasual dan terdaftar\n",
    "plt.figure(figsize=(12, 6))\n",
    "\n",
    "# Plot untuk pengguna kasual\n",
    "plt.plot(monthly_data.index, monthly_data['casual'], label='Pengguna Kasual', marker='o')\n",
    "\n",
    "# Plot untuk pengguna terdaftar\n",
    "plt.plot(monthly_data.index, monthly_data['registered'], label='Pengguna Terdaftar', marker='o')\n",
    "\n",
    "# Menambahkan judul dan label\n",
    "plt.title('Tren Penggunaan Sepeda Bulanan antara Pengguna Kasual dan Terdaftar', fontsize=16)\n",
    "plt.xlabel('Bulan', fontsize=12)\n",
    "plt.ylabel('Jumlah Penyewaan Sepeda', fontsize=12)\n",
    "plt.legend()\n",
    "\n",
    "plt.xticks(rotation=45)\n",
    "plt.show()"
   ]
  },
  {
   "cell_type": "code",
   "execution_count": 32,
   "metadata": {
    "colab": {
     "base_uri": "https://localhost:8080/",
     "height": 584
    },
    "executionInfo": {
     "elapsed": 7,
     "status": "ok",
     "timestamp": 1730574989631,
     "user": {
      "displayName": "Ahmad Taufiq Gultom",
      "userId": "10302629685787931894"
     },
     "user_tz": -420
    },
    "id": "Lii8ifRaDNf9",
    "outputId": "461761e1-19b6-4c39-aac2-e2cccc45077c"
   },
   "outputs": [
    {
     "data": {
      "image/png": "[encoded data removed]",
      "text/plain": [
       "<Figure size 1000x600 with 1 Axes>"
      ]
     },
     "metadata": {},
     "output_type": "display_data"
    }
   ],
   "source": [
    "# Menghitung total penyewaan sepeda untuk pengguna kasual dan terdaftar berdasarkan kategori hari\n",
    "rental_holiday = df_bikeday[df_bikeday['holiday'] == 1][['casual', 'registered']].sum()\n",
    "rental_workingday = df_bikeday[df_bikeday['workingday'] == 1][['casual', 'registered']].sum()\n",
    "rental_weekend = df_bikeday[(df_bikeday['workingday'] == 0) & (df_bikeday['holiday'] == 0)][['casual', 'registered']].sum()\n",
    "\n",
    "# Membuat DataFrame untuk perbandingan data\n",
    "usage_data = pd.DataFrame({\n",
    "    'Jenis Hari': ['Hari Libur', 'Hari Kerja', 'Akhir Pekan'],\n",
    "    'Casual': [rental_holiday['casual'], rental_workingday['casual'], rental_weekend['casual']],\n",
    "    'Registered': [rental_holiday['registered'], rental_workingday['registered'], rental_weekend['registered']]\n",
    "})\n",
    "\n",
    "# Mengatur ukuran plot\n",
    "plt.figure(figsize=(10, 6))\n",
    "\n",
    "# Melakukan melting untuk menyesuaikan data pada Seaborn barplot\n",
    "usage_data_melted = usage_data.melt(id_vars=\"Jenis Hari\", var_name=\"Pengguna\", value_name=\"Jumlah Penyewaan\")\n",
    "\n",
    "# Membuat bar plot\n",
    "sns.barplot(data=usage_data_melted, x=\"Jenis Hari\", y=\"Jumlah Penyewaan\", hue=\"Pengguna\", palette=\"viridis\")\n",
    "\n",
    "# Menambahkan judul dan label\n",
    "plt.title(\"Perbandingan Penyewaan Sepeda oleh Pengguna 'Casual' dan 'Registered' Berdasarkan Jenis Hari\", fontsize=14)\n",
    "plt.xlabel(\"Jenis Hari\", fontsize=12)\n",
    "plt.ylabel(\"Jumlah Penyewaan Sepeda\", fontsize=12)\n",
    "plt.legend(title=\"Pengguna\")\n",
    "plt.show()"
   ]
  },
  {
   "cell_type": "markdown",
   "metadata": {
    "id": "yo_5KaN__nXm"
   },
   "source": [
    "**Insight:**\n",
    "- Jumlah penyewaan sepeda pengguna terdaftar lebih banyak dibanding pengguna casual\n",
    "- Tidak terdapat perbedaan pola penyewaan sepeda untuk pengguna terdaftar atau pengguna casual berdasarkan jenis hari (libur, hari kerja, akhir pekan)"
   ]
  },
  {
   "cell_type": "markdown",
   "metadata": {
    "id": "_WeHlCeX8DC2"
   },
   "source": [
    "## Conclusion"
   ]
  },
  {
   "cell_type": "markdown",
   "metadata": {
    "id": "ZTcyR48Y8DC2"
   },
   "source": [
    "Berikut adalah kesimpulan yang dapat ditarik:\n",
    "\n",
    "**1. Bagaimana Pengaruh Cuaca terhadap Jumlah Penyewaan Sepeda?**\n",
    "   - Cuaca memiliki pengaruh signifikan terhadap penyewaan sepeda. Cuaca buruk seperti hujan lebat dan badai menurunkan jumlah penyewaan, sementara cuaca cerah dan berawan ringan mendorong lebih banyak orang untuk menyewa sepeda.\n",
    "   - Dari analisis data, terlihat bahwa jumlah penyewaan cenderung lebih tinggi pada hari-hari dengan cuaca yang baik (kategori cuaca 1: cerah atau sedikit mendung) dibandingkan hari-hari dengan kondisi cuaca yang lebih berat.\n",
    "   - Kesimpulan: Semakin baik cuaca, semakin tinggi jumlah penyewaan sepeda, karena orang cenderung lebih memilih bersepeda ketika kondisi cuaca mendukung.\n",
    "\n",
    "**2. Bagaimana Pengaruh Hari Libur, Hari Kerja, dan Akhir Pekan terhadap Penyewaan Sepeda?**\n",
    "   - Hari Kerja khususnya hari Jumat menunjukkan peningkatan penyewaan sepeda dibandingkan hari libur atau akhir pekan.\n",
    "\n",
    "**3. Bagaimana Tren Jumlah Penyewaan Sepeda dari Waktu ke Waktu (Year-on-Year, Month-to-Month)? Bulan Berapa Penyewaan Sepeda Tertinggi?**\n",
    "   - Secara Year-on-Year (y-on-y), tren penyewaan sepeda cenderung meningkat dari tahun 2011 ke tahun 2012.\n",
    "   - Secara Month-to-Month (m-to-m), bulan-bulan dengan cuaca hangat seperti Juni hingga September menunjukkan jumlah penyewaan sepeda tertinggi, sementara musim dingin (November hingga Februari) menunjukkan penurunan.\n",
    "   - Bulan dengan Penyewaan Tertinggi: Bulan Juni (tahun 2011) atau September (tahun 2012) menjadi puncak penyewaan sepeda, saat cuaca cerah, suhu hangat, dan waktu siang yang lebih panjang mendorong lebih banyak orang untuk bersepeda.\n",
    "   - Kesimpulan: Musim dan cuaca sangat memengaruhi jumlah penyewaan sepeda, dengan puncak tertinggi pada bulan-bulan musim panas.\n",
    "\n",
    "**4. Bagaimana Tren Penggunaan Sepeda antara Pengguna Kasual dan Terdaftar?**\n",
    "   - Pengguna Terdaftar menyewa sepeda lebih sering dibandingkan dengan pengguna kasual."
   ]
  }
 ],
 "metadata": {
  "colab": {
   "provenance": []
  },
  "kernelspec": {
   "display_name": "Python 3 (ipykernel)",
   "language": "python",
   "name": "python3"
  },
  "language_info": {
   "codemirror_mode": {
    "name": "ipython",
    "version": 3
   },
   "file_extension": ".py",
   "mimetype": "text/x-python",
   "name": "python",
   "nbconvert_exporter": "python",
   "pygments_lexer": "ipython3",
   "version": "3.12.3"
  },
  "vscode": {
   "interpreter": {
    "hash": "972b3bf27e332e87b5379f2791f6ef9dfc79c71018c370b0d7423235e20fe4d7"
   }
  }
 },
 "nbformat": 4,
 "nbformat_minor": 4
}
